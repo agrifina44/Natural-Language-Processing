{
 "cells": [
  {
   "cell_type": "code",
   "execution_count": 68,
   "metadata": {
    "collapsed": false,
    "deletable": true,
    "editable": true
   },
   "outputs": [
    {
     "data": {
      "text/plain": [
       "['Rp', '200']"
      ]
     },
     "execution_count": 68,
     "metadata": {},
     "output_type": "execute_result"
    }
   ],
   "source": [
    "import re\n",
    "\n",
    "kalimat=\"saya sedang makan di warung pak budi. saya membeli bakwan seharga Rp. 200\"\n",
    "pola='([A-Z]\\w+|[0-9]\\d{0,2})'\n",
    "\n",
    "re.findall(pola,kalimat)"
   ]
  },
  {
   "cell_type": "code",
   "execution_count": 3,
   "metadata": {
    "collapsed": false,
    "deletable": true,
    "editable": true
   },
   "outputs": [
    {
     "data": {
      "text/plain": [
       "['Rp', '200']"
      ]
     },
     "execution_count": 3,
     "metadata": {},
     "output_type": "execute_result"
    }
   ],
   "source": [
    "kalimat=\"saya sedang makan di warung pak budi. saya membeli bakwan seharga Rp. 200\"\n",
    "pola='([A-Z]\\w+|[0-9][0-9]+)'\n",
    "\n",
    "re.findall(pola,kalimat)"
   ]
  },
  {
   "cell_type": "code",
   "execution_count": 4,
   "metadata": {
    "collapsed": false,
    "deletable": true,
    "editable": true
   },
   "outputs": [
    {
     "data": {
      "text/plain": [
       "['P', 'e', 's', 't', 'a', ' ', 'b', 'e', 'r', ' ', ' ', '!']"
      ]
     },
     "execution_count": 4,
     "metadata": {},
     "output_type": "execute_result"
    }
   ],
   "source": [
    "kalimat1=\"Pesta ber 5 !\"\n",
    "pola1='[^\\d]'\n",
    "re.findall(pola1,kalimat1)"
   ]
  },
  {
   "cell_type": "code",
   "execution_count": 5,
   "metadata": {
    "collapsed": false,
    "deletable": true,
    "editable": true
   },
   "outputs": [
    {
     "data": {
      "text/plain": [
       "['Pesta ber ', ' !']"
      ]
     },
     "execution_count": 5,
     "metadata": {},
     "output_type": "execute_result"
    }
   ],
   "source": [
    "kalimat1=\"Pesta ber 5 !\"\n",
    "pola1='[^\\d]+'\n",
    "re.findall(pola1,kalimat1)"
   ]
  },
  {
   "cell_type": "code",
   "execution_count": 6,
   "metadata": {
    "collapsed": false,
    "deletable": true,
    "editable": true
   },
   "outputs": [
    {
     "data": {
      "text/plain": [
       "['s', 's', 's', 's']"
      ]
     },
     "execution_count": 6,
     "metadata": {},
     "output_type": "execute_result"
    }
   ],
   "source": [
    "kalimat=\"saya sedang makan di warung pak budi. saya membeli bakwan seharga Rp. 200\"\n",
    "pola='[s]'\n",
    "\n",
    "re.findall(pola,kalimat)"
   ]
  },
  {
   "cell_type": "code",
   "execution_count": 7,
   "metadata": {
    "collapsed": false,
    "deletable": true,
    "editable": true
   },
   "outputs": [
    {
     "data": {
      "text/plain": [
       "['s', 's', 's', 's']"
      ]
     },
     "execution_count": 7,
     "metadata": {},
     "output_type": "execute_result"
    }
   ],
   "source": [
    "kalimat=\"saya sedang makan di warung pak budi. saya membeli bakwan seharga Rp. 200\"\n",
    "pola='[s]+'\n",
    "\n",
    "re.findall(pola,kalimat)"
   ]
  },
  {
   "cell_type": "code",
   "execution_count": 67,
   "metadata": {
    "collapsed": false,
    "deletable": true,
    "editable": true
   },
   "outputs": [
    {
     "data": {
      "text/plain": [
       "['saya', 'saya']"
      ]
     },
     "execution_count": 67,
     "metadata": {},
     "output_type": "execute_result"
    }
   ],
   "source": [
    "kalimat=\"saya sedang makan di warung pak budi. saya membeli bakwan seharga Rp. 200\"\n",
    "pola='saya'\n",
    "\n",
    "re.findall(pola,kalimat)"
   ]
  },
  {
   "cell_type": "code",
   "execution_count": 9,
   "metadata": {
    "collapsed": false,
    "deletable": true,
    "editable": true
   },
   "outputs": [
    {
     "data": {
      "text/plain": [
       "['s', 's', 's', 's']"
      ]
     },
     "execution_count": 9,
     "metadata": {},
     "output_type": "execute_result"
    }
   ],
   "source": [
    "kalimat=\"saya sedang makan di warung pak budi. saya membeli bakwan seharga Rp. 200\"\n",
    "pola='[s*]'\n",
    "\n",
    "re.findall(pola,kalimat)"
   ]
  },
  {
   "cell_type": "code",
   "execution_count": 15,
   "metadata": {
    "collapsed": false,
    "deletable": true,
    "editable": true
   },
   "outputs": [
    {
     "data": {
      "text/plain": [
       "['s',\n",
       " 'a',\n",
       " 'y',\n",
       " 'a',\n",
       " 's',\n",
       " 'e',\n",
       " 'd',\n",
       " 'a',\n",
       " 'n',\n",
       " 'g',\n",
       " 'm',\n",
       " 'a',\n",
       " 'k',\n",
       " 'a',\n",
       " 'n',\n",
       " 'd',\n",
       " 'i',\n",
       " 'w',\n",
       " 'a',\n",
       " 'r',\n",
       " 'u',\n",
       " 'n',\n",
       " 'g',\n",
       " 'p',\n",
       " 'a',\n",
       " 'k',\n",
       " 'b',\n",
       " 'u',\n",
       " 'd',\n",
       " 'i',\n",
       " '.',\n",
       " 's',\n",
       " 'a',\n",
       " 'y',\n",
       " 'a',\n",
       " 'm',\n",
       " 'e',\n",
       " 'm',\n",
       " 'b',\n",
       " 'e',\n",
       " 'l',\n",
       " 'i',\n",
       " 'b',\n",
       " 'a',\n",
       " 'k',\n",
       " 'w',\n",
       " 'a',\n",
       " 'n',\n",
       " 's',\n",
       " 'e',\n",
       " 'h',\n",
       " 'a',\n",
       " 'r',\n",
       " 'g',\n",
       " 'a',\n",
       " 'R',\n",
       " 'p',\n",
       " '.',\n",
       " '2',\n",
       " '0',\n",
       " '0']"
      ]
     },
     "execution_count": 15,
     "metadata": {},
     "output_type": "execute_result"
    }
   ],
   "source": [
    "kalimat=\"saya sedang makan di warung pak budi. saya membeli bakwan seharga Rp. 200\"\n",
    "pola='[^\\s*]'\n",
    "\n",
    "re.findall(pola,kalimat)"
   ]
  },
  {
   "cell_type": "code",
   "execution_count": 14,
   "metadata": {
    "collapsed": false,
    "deletable": true,
    "editable": true
   },
   "outputs": [
    {
     "data": {
      "text/plain": [
       "['sa',\n",
       " 'ya',\n",
       " 'se',\n",
       " 'da',\n",
       " 'ng',\n",
       " 'ma',\n",
       " 'ka',\n",
       " 'di',\n",
       " 'wa',\n",
       " 'ru',\n",
       " 'ng',\n",
       " 'pa',\n",
       " 'bu',\n",
       " 'di',\n",
       " 'sa',\n",
       " 'ya',\n",
       " 'me',\n",
       " 'mb',\n",
       " 'el',\n",
       " 'ba',\n",
       " 'kw',\n",
       " 'an',\n",
       " 'se',\n",
       " 'ha',\n",
       " 'rg',\n",
       " 'Rp',\n",
       " '20']"
      ]
     },
     "execution_count": 14,
     "metadata": {},
     "output_type": "execute_result"
    }
   ],
   "source": [
    "kalimat=\"saya sedang makan di warung pak budi. saya membeli bakwan seharga Rp. 200\"\n",
    "pola='[^\\s*]\\w'\n",
    "\n",
    "re.findall(pola,kalimat)"
   ]
  },
  {
   "cell_type": "code",
   "execution_count": 17,
   "metadata": {
    "collapsed": false,
    "deletable": true,
    "editable": true
   },
   "outputs": [
    {
     "data": {
      "text/plain": [
       "['sa',\n",
       " 'ya',\n",
       " 'se',\n",
       " 'da',\n",
       " 'ng',\n",
       " 'ma',\n",
       " 'ka',\n",
       " 'di',\n",
       " 'wa',\n",
       " 'ru',\n",
       " 'ng',\n",
       " 'pa',\n",
       " 'bu',\n",
       " 'di',\n",
       " 'sa',\n",
       " 'ya',\n",
       " 'me',\n",
       " 'mb',\n",
       " 'el',\n",
       " 'ba',\n",
       " 'kw',\n",
       " 'an',\n",
       " 'se',\n",
       " 'ha',\n",
       " 'rg',\n",
       " 'Rp',\n",
       " '20']"
      ]
     },
     "execution_count": 17,
     "metadata": {},
     "output_type": "execute_result"
    }
   ],
   "source": [
    "kalimat=\"saya sedang makan di warung pak budi. saya membeli bakwan seharga Rp. 200\"\n",
    "pola='[^\\s]\\w'\n",
    "\n",
    "re.findall(pola,kalimat)"
   ]
  },
  {
   "cell_type": "code",
   "execution_count": 18,
   "metadata": {
    "collapsed": false,
    "deletable": true,
    "editable": true
   },
   "outputs": [
    {
     "data": {
      "text/plain": [
       "['saya', 'sedang', 'saya', 'seharga']"
      ]
     },
     "execution_count": 18,
     "metadata": {},
     "output_type": "execute_result"
    }
   ],
   "source": [
    "kalimat=\"saya sedang makan di warung pak budi. saya membeli bakwan seharga Rp. 200\"\n",
    "pola='[sy]\\w+'\n",
    "\n",
    "re.findall(pola,kalimat)"
   ]
  },
  {
   "cell_type": "code",
   "execution_count": 19,
   "metadata": {
    "collapsed": false,
    "deletable": true,
    "editable": true
   },
   "outputs": [
    {
     "data": {
      "text/plain": [
       "['saya', 'sedang', 'akan', 'arung', 'ak', 'saya', 'akwan', 'seharga']"
      ]
     },
     "execution_count": 19,
     "metadata": {},
     "output_type": "execute_result"
    }
   ],
   "source": [
    "kalimat=\"saya sedang makan di warung pak budi. saya membeli bakwan seharga Rp. 200\"\n",
    "pola='[sa]\\w+'\n",
    "\n",
    "re.findall(pola,kalimat)"
   ]
  },
  {
   "cell_type": "code",
   "execution_count": 20,
   "metadata": {
    "collapsed": false,
    "deletable": true,
    "editable": true
   },
   "outputs": [
    {
     "data": {
      "text/plain": [
       "['saya', 'sedang', 'saya', 'seharga']"
      ]
     },
     "execution_count": 20,
     "metadata": {},
     "output_type": "execute_result"
    }
   ],
   "source": [
    "kalimat=\"saya sedang makan di warung pak budi. saya membeli bakwan seharga Rp. 200\"\n",
    "pola='[s*]\\w+'\n",
    "\n",
    "re.findall(pola,kalimat)"
   ]
  },
  {
   "cell_type": "raw",
   "metadata": {
    "deletable": true,
    "editable": true
   },
   "source": [
    "import re\n",
    "import urllib\n",
    "from bs4 import BeautifulSoup\n",
    "\n",
    "url=urlib.urlopen('https://id.wikipedia.org/wiki/Indonesia')\n",
    "isi=url.read()\n",
    "soup=BeautifulSoup(isi,'lxml')"
   ]
  },
  {
   "cell_type": "code",
   "execution_count": 30,
   "metadata": {
    "collapsed": false,
    "deletable": true,
    "editable": true
   },
   "outputs": [
    {
     "ename": "AttributeError",
     "evalue": "module 'urllib' has no attribute 'urlopen'",
     "output_type": "error",
     "traceback": [
      "\u001b[1;31m---------------------------------------------------------------------------\u001b[0m",
      "\u001b[1;31mAttributeError\u001b[0m                            Traceback (most recent call last)",
      "\u001b[1;32m<ipython-input-30-5a0787b41c59>\u001b[0m in \u001b[0;36m<module>\u001b[1;34m()\u001b[0m\n\u001b[0;32m      3\u001b[0m \u001b[1;32mfrom\u001b[0m \u001b[0mbs4\u001b[0m \u001b[1;32mimport\u001b[0m \u001b[0mBeautifulSoup\u001b[0m\u001b[1;33m\u001b[0m\u001b[0m\n\u001b[0;32m      4\u001b[0m \u001b[1;33m\u001b[0m\u001b[0m\n\u001b[1;32m----> 5\u001b[1;33m \u001b[0murl\u001b[0m\u001b[1;33m=\u001b[0m\u001b[0murllib\u001b[0m\u001b[1;33m.\u001b[0m\u001b[0murlopen\u001b[0m\u001b[1;33m(\u001b[0m\u001b[1;34m'https://id.wikipedia.org/wiki/Indonesia'\u001b[0m\u001b[1;33m)\u001b[0m\u001b[1;33m\u001b[0m\u001b[0m\n\u001b[0m\u001b[0;32m      6\u001b[0m \u001b[0misi\u001b[0m\u001b[1;33m=\u001b[0m\u001b[0murl\u001b[0m\u001b[1;33m.\u001b[0m\u001b[0mread\u001b[0m\u001b[1;33m(\u001b[0m\u001b[1;33m)\u001b[0m\u001b[1;33m\u001b[0m\u001b[0m\n\u001b[0;32m      7\u001b[0m \u001b[0msoup\u001b[0m\u001b[1;33m=\u001b[0m\u001b[0mBeautifulSoup\u001b[0m\u001b[1;33m(\u001b[0m\u001b[0misi\u001b[0m\u001b[1;33m,\u001b[0m\u001b[1;34m'lxml'\u001b[0m\u001b[1;33m)\u001b[0m\u001b[1;33m\u001b[0m\u001b[0m\n",
      "\u001b[1;31mAttributeError\u001b[0m: module 'urllib' has no attribute 'urlopen'"
     ]
    }
   ],
   "source": [
    "import re\n",
    "import urllib\n",
    "from bs4 import BeautifulSoup\n",
    "\n",
    "url=urllib.urlopen('https://id.wikipedia.org/wiki/Indonesia')\n",
    "isi=url.read()\n",
    "soup=BeautifulSoup(isi,'lxml')"
   ]
  },
  {
   "cell_type": "code",
   "execution_count": 70,
   "metadata": {
    "collapsed": false,
    "deletable": true,
    "editable": true
   },
   "outputs": [
    {
     "name": "stdout",
     "output_type": "stream",
     "text": [
      "['', 'Republik Indonesia (RI), umumnya disebut Indonesia, adalah negara di Asia Tenggara yang dilintasi garis khatulistiwa dan berada di antara benua Asia dan Australia serta antara Samudra Pasifik dan Samudra Hindia. Indonesia adalah negara kepulauan terbesar di dunia yang terdiri dari 17.504 pulau,[8] nama alternatif yang biasa dipakai adalah Nusantara.[9] Dengan populasi lebih dari 263.846.946 juta jiwa pada tahun 2016,[10] Indonesia adalah negara berpenduduk terbesar keempat di dunia dan negara yang berpenduduk Muslim terbesar di dunia, dengan lebih dari 220 juta jiwa.[11] Bentuk pemerintahan Indonesia adalah republik, dengan Dewan Perwakilan Rakyat, Dewan Perwakilan Daerah dan Presiden yang dipilih secara langsung.', 'Ibu kota negara Indonesia ialah Jakarta. Indonesia berbatasan darat dengan Malaysia di Pulau Kalimantan, dengan Papua Nugini di Pulau Papua dan dengan Timor Leste di Pulau Timor. Negara tetangga lainnya adalah Singapura, Filipina, Australia, dan wilayah persatuan Kepulauan Andaman dan Nikobar di India.', 'Sejarah Indonesia banyak dipengaruhi oleh bangsa lainnya. Kepulauan Indonesia menjadi wilayah perdagangan penting setidaknya sejak abad ke-7, yaitu ketika Kerajaan Sriwijaya di Palembang menjalin hubungan agama dan perdagangan dengan Tiongkok dan India. Kerajaan-kerajaan Hindu dan Buddha telah tumbuh pada awal abad Masehi, diikuti para pedagang yang membawa agama Islam, serta berbagai kekuatan Eropa yang saling bertempur untuk memonopoli perdagangan rempah-rempah Maluku semasa era penjelajahan samudra. Setelah berada di bawah penjajahan Belanda, Indonesia yang saat itu bernama Hindia Belanda menyatakan kemerdekaannya di akhir Perang Dunia II. Selanjutnya Indonesia mendapat berbagai hambatan, ancaman dan tantangan dari bencana alam, korupsi, separatisme, proses demokratisasi dan periode perubahan ekonomi yang pesat.', 'Dari Sabang sampai Merauke, Indonesia terdiri dari berbagai suku bangsa, bahasa, dan agama. Berdasarkan rumpun bangsa (ras), Indonesia terdiri atas bangsa asli pribumi yakni Mongoloid Selatan/Austronesia dan Melanesia di mana bangsa Austronesia yang terbesar jumlahnya dan lebih banyak mendiami Indonesia bagian barat. Secara lebih spesifik, suku bangsa Jawa adalah suku bangsa terbesar dengan populasi mencapai 41,7% dari seluruh penduduk Indonesia.[12] Semboyan nasional Indonesia, \"Bhinneka tunggal ika\" (\"Berbeda-beda namun tetap satu\"), berarti keberagaman yang membentuk negara. Selain memiliki populasi padat dan wilayah yang luas, Indonesia memiliki wilayah alam yang mendukung tingkat keanekaragaman hayati terbesar kedua di dunia.', 'Indonesia juga anggota dari PBB dan satu-satunya anggota yang pernah keluar dari PBB, yaitu pada tanggal 7 Januari 1965, dan bergabung kembali pada tanggal 28 September 1966 dan Indonesia tetap dinyatakan sebagai anggota yang ke-60, keanggotaan yang sama sejak bergabungnya Indonesia pada tanggal 28 September 1950. Selain PBB, Indonesia juga merupakan anggota dari ASEAN, KAA, APEC, OKI, G-20 dan akan menjadi anggota dari OECD.', '', '', 'Kata \"Indonesia\" berasal dari bahasa Yunani kuno yaitu Indus yang merujuk kepada sungai Indus di India dan nesos yang berarti \"pulau\".[13] Jadi, kata Indonesia berarti wilayah \"kepulauan India\", atau kepulauan yang berada di wilayah Hindia, ini merujuk kepada persamaan antara dua bangsa tersebut (India dan Indonesia).[14] Pada tahun 1850, George Windsor Earl, seorang etnolog berkebangsaan Inggris, awalnya mengusulkan istilah Indunesia dan Malayunesia untuk penduduk \"Kepulauan Hindia atau Kepulauan Melayu\".[15] Murid dari Earl, James Richardson Logan, menggunakan kata Indonesia sebagai sinonim dari Kepulauan India.[16] Namun, penulisan akademik Belanda di media Hindia Belanda tidak menggunakan kata Indonesia, tetapi istilah Kepulauan Melayu (Maleische Archipel); Hindia Timur Belanda (Nederlandsch Oost Indië), atau Hindia (Indië); Timur (de Oost); dan bahkan Insulinde (istilah ini diperkenalkan tahun 1860 dalam novel Max Havelaar (1859), ditulis oleh Multatuli, mengenai kritik terhadap kolonialisme Belanda).[9]', 'Sejak tahun 1900, nama Indonesia menjadi lebih umum pada lingkungan akademik di luar Belanda, dan golongan nasionalis Indonesia menggunakannya untuk ekspresi politik.[9] Adolf Bastian dari Universitas Berlin memasyarakatkan nama ini melalui buku Indonesien oder die Inseln des Malayischen Archipels, 1884–1894. Pelajar Indonesia pertama yang menggunakannya ialah Suwardi Suryaningrat (Ki Hajar Dewantara), yaitu ketika ia mendirikan kantor berita di Belanda yang bernama Indonesisch Pers Bureau pada tahun 1913.[14]', 'Peninggalan fosil-fosil Homo erectus, yang oleh antropolog juga dijuluki \"Manusia Jawa\", menimbulkan dugaan bahwa kepulauan Indonesia telah mulai berpenghuni pada antara dua juta sampai 500.000 tahun yang lalu.[17] Bangsa Austronesia, yang membentuk mayoritas penduduk pada saat ini, bermigrasi ke Asia Tenggara dari Taiwan. Mereka tiba di sekitar 2000\\xa0SM, dan menyebabkan bangsa Melanesia yang telah ada lebih dahulu di sana terdesak ke wilayah-wilayah yang jauh di timur kepulauan.[18] Kondisi tempat yang ideal bagi pertanian, dan penguasaan atas cara bercocok tanam padi setidaknya sejak abad ke-8 SM,[19] menyebabkan banyak perkampungan, kota, dan kerajaan-kerajaan kecil tumbuh berkembang dengan baik pada abad pertama masehi. Selain itu, Indonesia yang terletak di jalur perdagangan laut internasional dan antar pulau, telah menjadi jalur pelayaran antara India dan Tiongkok selama beberapa abad.[20] Sejarah Indonesia selanjutnya mengalami banyak sekali pengaruh dari kegiatan perdagangan tersebut.[21]', 'Di bawah pengaruh agama Hindu dan Buddha, beberapa kerajaan terbentuk di pulau Kalimantan, Sumatera, dan Jawa sejak abad ke-4 hingga abad ke-14. Kutai, merupakan kerajaan tertua di Nusantara yang berdiri pada abad ke-4 di hulu sungai Mahakam, Kalimantan Timur. Di wilayah barat pulau Jawa, pada abad ke-4 hingga abad ke-7 M berdiri kerajaan Tarumanegara. Pemerintahan Tarumanagara dilanjutkan oleh Kerajaan Sunda dari tahun 669 M sampai 1579 M. Pada abad ke-7 muncul kerajaan Malayu yang berpusat di Jambi, Sumatera. Sriwijaya mengalahkan Malayu dan muncul sebagai kerajaan maritim yang paling perkasa di Nusantara. Wilayah kekuasaannya meliputi Sumatera, Jawa, semenanjung Melayu, sekaligus mengontrol perdagangan di Selat Malaka, Selat Sunda, dan Laut Tiongkok Selatan.[22] Di bawah pengaruh Sriwijaya, antara abad ke-8 dan ke-10 wangsa Syailendra dan Sanjaya berhasil mengembangkan kerajaan-kerajaan berbasis agrikultur di Jawa, dengan peninggalan bersejarahnya seperti candi Borobudur dan candi Prambanan. Di akhir abad ke-13, Majapahit berdiri di bagian timur pulau Jawa. Di bawah pimpinan mahapatih Gajah Mada, kekuasaannya meluas sampai hampir meliputi wilayah Indonesia kini; dan sering disebut \"Zaman Keemasan\" dalam sejarah Indonesia.[23]', 'Kedatangan pedagang-pedagang Arab dan Persia melalui Gujarat, India, kemudian membawa agama Islam. Selain itu pelaut-pelaut Tiongkok yang dipimpin oleh Laksamana Cheng Ho (Zheng He) yang beragama Islam, juga pernah menyinggahi wilayah ini pada awal abad ke-15.[24] Para pedagang-pedagang ini juga menyebarkan agama Islam di beberapa wilayah Nusantara. Samudera Pasai yang berdiri pada tahun 1267, merupakan kerajaan Islam pertama di Indonesia.', 'Indonesia juga merupakan negara yang dijajah oleh banyak negara Eropa dan juga Asia, karena sejak zaman dahulu Indonesia merupakan negara yang kaya akan hasil alamnya yang berlimpah, hingga membuat negara-negara Eropa tergiur untuk menjajah dan bermaksud menguasai sumber daya alam untuk pemasukan bagi negaranya, Negara-negara yang pernah menjajah Indonesia antara lain:', 'Ketika orang-orang Eropa datang pada awal abad ke-16, mereka menemukan beberapa kerajaan yang dengan mudah dapat mereka kuasai demi mendominasi perdagangan rempah-rempah. Portugis pertama kali mendarat di dua pelabuhan Kerajaan Sunda yaitu Banten dan Sunda Kelapa, tetapi dapat diusir dan bergerak ke arah timur dan menguasai Maluku. Pada abad ke-17, Belanda muncul sebagai yang terkuat di antara negara-negara Eropa lainnya, mengalahkan Britania Raya dan Portugal (kecuali untuk koloni mereka, Timor Portugis). Pada masa itulah agama Kristen masuk ke Indonesia sebagai salah satu misi imperialisme lama yang dikenal sebagai 3G, yaitu Gold, Glory, and Gospel.[25] Belanda menguasai Indonesia sebagai koloni hingga Perang Dunia II, awalnya melalui VOC, dan kemudian langsung oleh pemerintah Belanda sejak awal abad ke-19. Di bawah sistem Cultuurstelsel (Sistem Penanaman) pada abad ke-19, perkebunan besar dan penanaman paksa dilaksanakan di Jawa, akhirnya menghasilkan keuntungan bagi Belanda yang tidak dapat dihasilkan VOC. Pada masa pemerintahan kolonial yang lebih bebas setelah 1870, sistem ini dihapus. Setelah 1901 pihak Belanda memperkenalkan Kebijakan Beretika,[26] yang termasuk reformasi politik yang terbatas dan investasi yang lebih besar di Hindia Belanda.', 'Pada masa Perang Dunia II, sewaktu Belanda dijajah oleh Jerman, Jepang menguasai Indonesia. Setelah mendapatkan Indonesia pada tahun 1942, Jepang melihat bahwa para pejuang Indonesia merupakan rekan perdagangan yang kooperatif dan bersedia mengerahkan prajurit bila diperlukan. Soekarno, Mohammad Hatta, KH. Mas Mansur, dan Ki Hajar Dewantara diberikan penghargaan oleh Kaisar Jepang pada tahun 1943.', 'Pada Maret 1945 Jepang membentuk sebuah komite untuk kemerdekaan Indonesia. Setelah Perang Pasifik berakhir pada tahun 1945, di bawah tekanan organisasi pemuda, Soekarno-Hatta memproklamasikan kemerdekaan Indonesia pada tanggal 17 Agustus 1945 yang pada saat itu sedang bulan Ramadhan. Setelah kemerdekaan, tiga pendiri bangsa yakni Soekarno, Mohammad Hatta, dan Sutan Sjahrir masing-masing menjabat sebagai presiden, wakil presiden, dan perdana menteri. Dalam usaha untuk menguasai kembali Indonesia, Belanda mengirimkan pasukan mereka.', \"Usaha-usaha berdarah untuk meredam pergerakan kemerdekaan ini kemudian dikenal oleh orang Belanda sebagai 'aksi kepolisian' (politionele actie), atau dikenal oleh orang Indonesia sebagai Agresi Militer.[27] Belanda akhirnya menerima hak Indonesia untuk merdeka pada 27 Desember 1949 sebagai negara federal yang disebut Republik Indonesia Serikat setelah mendapat tekanan yang kuat dari kalangan internasional, terutama Amerika Serikat. Mosi Integral Natsir pada tanggal 17 Agustus 1950, menyerukan kembalinya negara kesatuan Republik Indonesia dan membubarkan Republik Indonesia Serikat. Soekarno kembali menjadi presiden dengan Mohammad Hatta sebagai wakil presiden dan Mohammad Natsir sebagai perdana menteri.\", 'Pada tahun 1950-an dan 1960-an, pemerintahan Soekarno mulai mengikuti sekaligus merintis gerakan non-blok pada awalnya, kemudian menjadi lebih dekat dengan blok sosialis, misalnya Republik Rakyat Tiongkok dan Yugoslavia. Tahun 1960-an menjadi saksi terjadinya konfrontasi militer terhadap negara tetangga, Malaysia (\"Konfrontasi\"),[28] dan ketidakpuasan terhadap kesulitan ekonomi yang semakin besar. Selanjutnya pada tahun 1965 meletus kejadian G30S yang menyebabkan kematian 6 orang jenderal dan sejumlah perwira menengah lainnya. Muncul kekuatan baru yang menyebut dirinya Orde Baru yang segera menuduh Partai Komunis Indonesia sebagai otak di belakang kejadian ini dan bermaksud menggulingkan pemerintahan yang sah serta mengganti ideologi nasional menjadi berdasarkan paham sosialis-komunis. Tuduhan ini sekaligus dijadikan alasan untuk menggantikan pemerintahan lama di bawah Presiden Soekarno.', 'Jenderal Soeharto menjadi Pejabat Presiden pada tahun 1967 dengan alasan untuk mengamankan negara dari ancaman komunisme. Sementara itu kondisi fisik Soekarno sendiri semakin melemah. Setelah Soeharto berkuasa, ratusan ribu warga Indonesia yang dicurigai terlibat pihak komunis dibunuh, sementara masih banyak lagi warga Indonesia yang sedang berada di luar negeri, tidak berani kembali ke tanah air, dan akhirnya dicabut kewarganegaraannya. Tiga puluh dua tahun masa kekuasaan Soeharto dinamakan Orde Baru, sementara masa pemerintahan Soekarno disebut Orde Lama.', 'Soeharto menerapkan ekonomi neoliberal dan berhasil mendatangkan investasi luar negeri yang besar untuk masuk ke Indonesia dan menghasilkan pertumbuhan ekonomi yang besar, meski tidak merata. Pada awal rezim Orde Baru kebijakan ekomomi Indonesia disusun oleh sekelompok ekonom lulusan Departemen Ekonomi Universitas California, Berkeley, yang dipanggil \"Mafia Berkeley\".[29] Namun, Soeharto menambah kekayaannya dan keluarganya melalui praktik korupsi, kolusi, dan nepotisme yang meluas dan dia akhirnya dipaksa turun dari jabatannya setelah aksi demonstrasi besar-besaran dan kondisi ekonomi negara yang memburuk pada tahun 1998.', 'Masa Peralihan Orde Reformasi atau Era Reformasi berlangsung dari tahun 1998 hingga 2001, ketika terdapat tiga masa presiden: Bacharuddin Jusuf (BJ) Habibie, Abdurrahman Wahid dan Megawati Sukarnoputri. Pada tahun 2004, diselenggarakan Pemilihan Umum satu hari terbesar di dunia[30] yang dimenangkan oleh Susilo Bambang Yudhoyono, sebagai presiden terpilih secara langsung oleh rakyat, yang menjabat selama dua periode (2004-2009 dan 2009-2014).', 'Indonesia kini sedang mengalami masalah-masalah ekonomi, politik dan pertikaian bernuansa agama di dalam negeri, dan beberapa daerah berusaha untuk melepaskan diri dari naungan NKRI, terutama Papua. Timor Timur secara resmi memisahkan diri pada tahun 1999 setelah 24 tahun bersatu dengan Indonesia dan 3 tahun di bawah administrasi PBB menjadi negara Timor Leste.', 'Pada Desember 2004 dan Maret 2005, Aceh dan Nias dilanda dua gempa bumi besar yang totalnya menewaskan ratusan ribu jiwa. (Lihat Gempa bumi Samudra Hindia 2004 dan Gempa bumi Sumatra Maret 2005.) Kejadian ini disusul oleh gempa bumi di Yogyakarta dan tsunami yang menghantam Pantai Pangandaran dan sekitarnya, serta banjir lumpur di Sidoarjo pada 2006 yang tidak kunjung terpecahkan.', 'Indonesia menjalankan pemerintahan republik presidensial multipartai yang demokratis. Seperti juga di negara-negara demokrasi lainnya, sistem politik di Indonesia didasarkan pada Trias Politika yaitu kekuasaan legislatif, eksekutif dan yudikatif. Kekuasaan legislatif dipegang oleh sebuah lembaga bernama Majelis Permusyawaratan Rakyat (MPR).', 'MPR pernah menjadi lembaga tertinggi negara unikameral, namun setelah amendemen ke-4 MPR bukanlah lembaga tertinggi lagi, dan komposisi keanggotaannya juga berubah. MPR setelah amendemen UUD 1945, yaitu sejak 2004 menjelma menjadi lembaga bikameral yang terdiri dari 560 anggota Dewan Perwakilan Rakyat (DPR) yang merupakan wakil rakyat melalui Partai Politik, ditambah dengan 132 anggota Dewan Perwakilan Daerah (DPD) yang merupakan wakil provinsi dari jalur independen.[31] Anggota DPR dan DPD dipilih melalui pemilu dan dilantik untuk masa jabatan lima tahun. Sebelumnya, anggota MPR adalah seluruh anggota DPR ditambah utusan golongan dan TNI/Polri. MPR saat ini diketuai oleh Zulkifli Hasan. DPR saat ini diketuai oleh Setya Novanto, sedangkan DPD saat ini diketuai oleh Mohammad Saleh.', 'Lembaga eksekutif berpusat pada presiden, wakil presiden, dan kabinet. Kabinet di Indonesia adalah Kabinet Presidensial sehingga para menteri bertanggung jawab kepada presiden dan tidak mewakili partai politik yang ada di parlemen. Meskipun demikian, presiden saat ini yakni Joko Widodo yang diusung oleh Partai Demokrasi Indonesia Perjuangan juga menunjuk sejumlah pemimpin partai politik untuk duduk di kabinetnya. Tujuannya untuk menjaga stabilitas pemerintahan mengingat kuatnya posisi lembaga legislatif di Indonesia. Namun pos-pos penting dan strategis umumnya diisi oleh menteri tanpa portofolio partai (berasal dari seseorang yang dianggap ahli dalam bidangnya).', 'Lembaga Yudikatif sejak masa reformasi dan adanya amendemen UUD 1945 dijalankan oleh Mahkamah Agung, Komisi Yudisial, dan Mahkamah Konstitusi, termasuk pengaturan administrasi para hakim. Meskipun demikian keberadaan Menteri Hukum dan Hak Asasi Manusia tetap dipertahankan.', 'Berlawanan dengan Sukarno yang anti-Imperialisme, antipati terhadap kekuatan barat, dan bersitegang dengan Malaysia, hubungan luar negeri sejak \"Orde baru\"-nya Suharto didasarkan pada ekonomi dan kerja sama politik dengan negara-negara barat.[33] Indonesia menjaga hubungan baik dengan tetangga-tetangganya di Asia, dan Indonesia adalah pendiri ASEAN dan East Asia Summit.', 'Indonesia menjalin hubungan kembali dengan Republik Rakyat Tiongkok pada tahun 1990, padahal sebelumnya melakukan pembekuan hubungan sehubungan dengan gejolak anti-komunis di awal kepemerintahan Suharto. Indonesia menjadi anggota Perserikatan Bangsa-bangsa sejak tahun 1950,[34] dan pendiri Gerakan Non Blok dan Organisasi Kelompok Islam yang sekarang telah menjadi Organisasi Kerjasama Islam. Indonesia telah menandatangani perjanjian ASEAN Free Trade Area, Cairns Group, dan World Trade Organization, dan pernah menjadi anggota OPEC, meskipun Indonesia menarik diri pada tahun 2008 sehubungan Indonesia bukan lagi pengekspor minyak mentah bersih. Indonesia telah menerima bantuan kemanusiaan dan pembangunan sejak tahun 1966, terutama dari Amerika Serikat, negara-negara Eropa Barat, Australia dan Jepang.', 'Pemerintah Indonesia telah bekerja sama dengan dunia international sehubungan dengan pengeboman yang dilakukan oleh militan Islam dan Al-Qaeda.[35] Pemboman besar menimbulkan korban 202 orang tewas (termasuk 164 turis mancanegara) di Kuta, Bali pada tahun 2012.[36] Serangan tersebut dan peringatan perjalanan (travel warnings) yang dikeluarkan oleh negara-negara lain, menimbulkan dampak yang berat bagi industri jasa perjalanan/turis dan juga prospek investasi asing.[37] Tetapi beruntung ekonomi Indonesia secara keseluruhan tidak terlalu dipengaruhi oleh hal-hal tersebut di atas, karena Indonesia adalah negara yang ekonomi domestiknya cukup kuat dan dominan.', 'Tentara Nasional Indonesia terdiri dari TNI–AD, TNI-AL (termasuk Marinir) dan TNI-AU.[38] Berkekuatan 400.000 prajurit aktif, memiliki anggaran 4% dari GDP pada tahun 2006, tetapi terdapat kontroversi bahwa ada sumber-sumber dana dari kepentingan-kepentingan komersial dan yayasan-yayasan yang dilindungi oleh militer.[39] Satu hal baik dari reformasi sejalan dengan mundurnya Suharto adalah mundurnya TNI dari parlemen setelah bubarnya Dwi Fungsi ABRI, walaupun pengaruh militer dalam bernegara masih tetap kuat.[40] Gerakan separatis di sebagian daerah Aceh dan Papua telah menimbulkan konflik bersenjata, dan terjadi pelanggaran HAM serta kebrutalan yang dilakukan oleh keduabelah pihak.[41][42] Setelah 30 tahun perseteruan sporadis antara Gerakan Aceh Merdeka dan militer Indonesia, maka persetujuan gencatan senjata terjadi pada tahun 2005.[43] Di Papua, telah terjadi kemajuan yang mencolok, walaupun masih terjadi kekurangan-kekurangan, dengan diterapkannya otonomi, dengan akibat berkurangannya pelanggaran HAM.[44]', 'Indonesia saat ini secara de facto terdiri dari 34 provinsi, lima di antaranya memiliki status yang berbeda (Aceh, Daerah Istimewa Yogyakarta, Papua Barat, Papua, dan DKI Jakarta). Provinsi dibagi menjadi 416 kabupaten dan 98 kota atau 7024 daerah setingkat kecamatan[45] atau 81626 daerah setingkat desa.[46] terdapat berbagai istilah lokal untuk suatu daerah di indonesia misal: kelurahan, desa, gampong, kampung, nagari, pekon, atau istilah lain yang diakomodasi oleh Undang-Undang Republik Indonesia Nomor 32 Tahun 2004 tentang Pemerintahan Daerah. Tiap provinsi memiliki DPRD Provinsi dan gubernur; sementara kabupaten memiliki DPRD Kabupaten dan bupati; kemudian kota memiliki DPRD Kota dan wali kota; semuanya dipilih langsung oleh rakyat melalui Pemilu dan Pilkada. Bagaimanapun di Jakarta tidak terdapat DPR Kabupaten atau Kota, karena Kabupaten Administrasi dan Kota Administrasi di Jakarta bukanlah daerah otonom.', 'Provinsi Aceh, Daerah Istimewa Yogyakarta, Provinsi Papua Barat, dan Papua memiliki hak istimewa legislatur yang lebih besar dan tingkat otonomi yang lebih tinggi dibandingkan provinsi lainnya. Contohnya, Aceh berhak membentuk sistem legal sendiri; pada tahun 2003, Aceh mulai menetapkan hukum Syariah.[47] Yogyakarta mendapatkan status Daerah Istimewa sebagai pengakuan terhadap peran penting Yogyakarta dalam mendukung Indonesia selama Revolusi.[48] Provinsi Papua, sebelumnya disebut Irian Jaya, mendapat status otonomi khusus tahun 2001.[49] DKI Jakarta, adalah daerah khusus ibukota negara. Timor Portugis digabungkan ke dalam wilayah Indonesia dan menjadi provinsi Timor Timur pada 1976–1999, yang kemudian memisahkan diri melalui referendum menjadi Negara Timor Leste.[50]', 'Sumatera', 'Jawa', 'Kepulauan Nusa Tenggara', 'Kalimantan', 'Sulawesi', 'Kepulauan Maluku', 'Papua', 'Lihat pula: Peta Asia dan Jumlah pulau di Indonesia', \"Indonesia adalah negara kepulauan di Asia Tenggara[88] yang memiliki 17.504 pulau besar dan kecil,[8] sekitar 6.000 di antaranya tidak berpenghuni[89], yang menyebar disekitar khatulistiwa, yang memberikan cuaca tropis. Posisi Indonesia terletak pada koordinat 6°LU - 11°08'LS dan dari 95°'BT - 141°45'BT serta terletak di antara dua benua yaitu benua Asia dan benua Australia/Oseania.\", 'Wilayah Indonesia terbentang sepanjang 3.977 mil di antara Samudra Hindia dan Samudra Pasifik. Luas daratan Indonesia adalah 1.922.570\\xa0km² dan luas perairannya 3.257.483\\xa0km². Pulau terpadat penduduknya adalah pulau Jawa, di mana setengah populasi Indonesia bermukim. Indonesia terdiri dari 5 pulau besar, yaitu: Jawa dengan luas 132.107\\xa0km², Sumatera dengan luas 473.606\\xa0km², Kalimantan dengan luas 539.460\\xa0km², Sulawesi dengan luas 189.216\\xa0km², dan Papua dengan luas 421.981\\xa0km². Batas wilayah Indonesia diukur dari kepulauan dengan menggunakan territorial laut: 12 mil laut serta zona ekonomi eksklusif: 200 mil laut,[90] searah penjuru mata angin, yaitu:', 'Sumber daya alam Indonesia berupa minyak bumi, timah, gas alam, nikel, kayu, bauksit, tanah subur, batu bara, emas, dan perak dengan pembagian lahan terdiri dari tanah pertanian sebesar 10%, perkebunan sebesar 7%, padang rumput sebesar 7%, hutan dan daerah berhutan sebesar 62%, dan lainnya sebesar 14% dengan lahan irigasi seluas 45.970\\xa0km[91]', 'Sesuai dengan konstitusi yang berlaku, yaitu berdasarkan UUD 1945 pasal 31 ayat 4 dan Undang-Undang nomor 20 tahun 2003 tentang sistem pendidikan nasional, bahwa pemerintah Indonesia baik pusat maupun daerah mesti mengalokasikan anggaran untuk pendidikan sebesar 20% dari APBN dan APBD di luar gaji pendidik dan biaya kedinasan. Namun pada tahun 2007, alokasi yang disediakan tersebut baru sekitar 17.2\\xa0%, jauh lebih rendah dibandingkan dengan negara Malaysia, Thailand, dan Filipina yang telah mengalokasikan anggaran untuk pendidikan lebih dari 28%.[92]', 'Sistem ekonomi Indonesia awalnya didukung dengan diluncurkannya Oeang Repoeblik Indonesia (ORI) yang menjadi mata uang pertama Republik Indonesia, yang selanjutnya berganti menjadi Rupiah.', 'Pada masa pemerintahan Orde Lama, Indonesia tidak seutuhnya mengadaptasi sistem ekonomi kapitalis, namun juga memadukannya dengan nasionalisme ekonomi. Pemerintah yang belum berpengalaman, masih ikut campur tangan ke dalam beberapa kegiatan produksi yang berpengaruh bagi masyarakat banyak. Hal tersebut, ditambah pula kemelut politik, mengakibatkan terjadinya ketidakstabilan pada ekonomi negara.[93]', 'Pemerintahaan Orde Baru segera menerapkan disiplin ekonomi yang bertujuan menekan inflasi, menstabilkan mata uang, penjadwalan ulang hutang luar negeri, dan berusaha menarik bantuan dan investasi asing.[93] Pada era tahun 1970-an harga minyak bumi yang meningkat menyebabkan melonjaknya nilai ekspor, dan memicu tingkat pertumbuhan ekonomi rata-rata yang tinggi sebesar 7% antara tahun 1968 sampai 1981.[93] Reformasi ekonomi lebih lanjut menjelang akhir tahun 1980-an, antara lain berupa deregulasi sektor keuangan dan pelemahan nilai rupiah yang terkendali,[93] selanjutnya mengalirkan investasi asing ke Indonesia khususnya pada industri-industri berorientasi ekspor pada antara tahun 1989 sampai 1997[94] Ekonomi Indonesia mengalami kemunduran pada akhir tahun 1990-an akibat krisis ekonomi yang melanda sebagian besar Asia pada saat itu,[95] yang disertai pula berakhirnya masa Orde Baru dengan pengunduran diri Presiden Soeharto tanggal 21 Mei 1998.', 'Saat ini ekonomi Indonesia telah cukup stabil. Pertumbuhan PDB Indonesia tahun 2004 dan 2005 melebihi 5% dan diperkirakan akan terus berlanjut.[96] Namun, dampak pertumbuhan itu belum cukup besar dalam memengaruhi tingkat pengangguran, yaitu sebesar 9,75%.[97][98] Perkiraan tahun 2006, sebanyak 17,8% masyarakat hidup di bawah garis kemiskinan, dan terdapat 49,0% masyarakat yang hidup dengan penghasilan kurang dari AS$ 2 per hari.[99]', 'Indonesia mempunyai sumber daya alam yang besar di luar Jawa, termasuk minyak mentah, gas alam, timah, tembaga, dan emas. Indonesia pengekspor gas alam terbesar kelima[100] di dunia, meski akhir-akhir ini ia telah mulai menjadi pengimpor bersih minyak mentah. Hasil pertanian yang utama termasuk beras, teh, kopi, rempah-rempah, dan karet.[101] Sektor jasa adalah penyumbang terbesar PDB, yang mencapai 45,3% untuk PDB 2005. Sedangkan sektor industri menyumbang 40,7%, dan sektor pertanian menyumbang 14,0%.[102] Meskipun demikian, sektor pertanian mempekerjakan lebih banyak orang daripada sektor-sektor lainnya, yaitu 44,3% dari 95 juta orang tenaga kerja. Sektor jasa mempekerjakan 36,9%, dan sisanya sektor industri sebesar 18,8%.[103]', 'Rekan perdagangan terbesar Indonesia adalah Jepang, Amerika Serikat, dan negara-negara jirannya yaitu Malaysia, Singapura dan Australia.', 'Meski kaya akan sumber daya alam dan manusia, Indonesia masih menghadapi masalah besar dalam bidang kemiskinan yang sebagian besar disebabkan oleh korupsi yang merajalela dalam pemerintahan. Lembaga Transparency International menempatkan Indonesia sebagai peringkat ke-143 dari 180 negara dalam Indeks Persepsi Korupsi, yang dikeluarkannya pada tahun 2007.[104]', '', 'Menurut sensus penduduk 2000, Indonesia memiliki populasi sekitar 206 juta,[111] dan diperkirakan pada tahun 2006 berpenduduk 222 juta.[112] 130 juta (lebih dari 50%) tinggal di Pulau Jawa yang merupakan pulau berpenduduk terbanyak sekaligus pulau di mana ibukota Jakarta berada.[113] Sebagian besar (95%) penduduk Indonesia adalah Bangsa Austronesia, dan terdapat juga kelompok-kelompok suku Melanesia, Polinesia, dan Mikronesia terutama di Indonesia bagian Timur. Banyak penduduk Indonesia yang menyatakan dirinya sebagai bagian dari kelompok suku yang lebih spesifik, yang dibagi menurut bahasa dan asal daerah, misalnya Jawa, Sunda, Madura, Batak, dan Minangkabau.', 'Selain itu juga ada penduduk pendatang yang jumlahnya minoritas di antaranya adalah etnis Tionghoa, India, dan Arab. Mereka sudah lama datang ke Nusantara melalui perdagangan sejak abad ke 8 M dan menetap menjadi bagian dari Nusantara. Di Indonesia terdapat sekitar 4 juta populasi etnis Tionghoa.[114] Angka ini berbeda-beda karena hanya pada tahun 1930 dan 2000 pemerintah melakukan sensus dengan menggolong-golongkan masyarakat Indonesia ke dalam suku bangsa dan keturunannya.', 'Islam adalah agama mayoritas yang dipeluk oleh sekitar 85,2% penduduk Indonesia, yang menjadikan Indonesia negara dengan penduduk muslim terbanyak di dunia.[101] Sisanya beragama Protestan (8,9%), Katolik (3%), Hindu (1,8%), Buddha (0,8%), dan lain-lain (0,3%). Selain agama-agama tersebut, pemerintah Indonesia juga secara resmi mengakui Konghucu.[115]', 'Mayoritas penduduk Indonesia bertutur dalam bahasa daerah sebagai bahasa ibu dan bahasa sehari-hari, namun bahasa resmi negara, yaitu Bahasa Indonesia, diajarkan di seluruh sekolah-sekolah di negara ini dan dikuasai oleh hampir seluruh penduduk Indonesia.', 'Indonesia memiliki sekitar 300 kelompok etnis, tiap etnis memiliki warisan budaya yang berkembang selama berabad-abad, dipengaruhi oleh kebudayaan India, Arab, Tiongkok, Eropa, dan termasuk kebudayaan sendiri yaitu Melayu. Contohnya tarian Jawa dan Bali tradisional memiliki aspek budaya dan mitologi Hindu, seperti Wayang Kulit yang menampilkan kisah-kisah tentang kejadian mitologis Hindu Ramayana dan Baratayuda. Banyak juga seni tari yang berisikan nilai-nilai Islam. Beberapa di antaranya dapat ditemukan di daerah Sumatera seperti tari Ratéb Meuseukat dan tari Seudati dari Aceh.', 'Seni pantun, gurindam, dan sebagainya dari pelbagai daerah seperti pantun Melayu, dan pantun-pantun lainnya acapkali dipergunakan dalam acara-acara tertentu yaitu perhelatan, pentas seni, dan lain-lain.', 'Di bidang busana warisan budaya yang terkenal di seluruh dunia adalah kerajinan Batik. Beberapa daerah yang terkenal akan industri Batik meliputi Yogyakarta, Surakarta, Cirebon, Pandeglang, Garut, Tasikmalaya dan juga Pekalongan. Kerajinan Batik ini pun diklaim oleh negara lain dengan industri Batiknya.[116] Busana asli Indonesia dari Sabang sampai Merauke lainnya dapat dikenali dari ciri-cirinya yang dikenakan di setiap daerah antara lain baju Kurung dengan Songketnya dari Sumatera Barat (Minangkabau), kain Ulos dari Sumatera Utara (Batak), busana Kebaya, busana khas Dayak di Kalimantan, baju Bodo dari Sulawesi Selatan, busana Koteka dari Papua dan sebagainya.', 'Arsitektur Indonesia mencerminkan keanekaragaman budaya, sejarah, dan geografi yang membentuk Indonesia seutuhnya. Kaum penyerang, penjajah, penyebar agama, pedagang, dan saudagar membawa perubahan budaya dengan memberi dampak pada gaya dan teknik bangunan. Tradisionalnya, pengaruh arsitektur asing yang paling kuat adalah dari India. Tetapi, Tiongkok, Arab, dan sejak abad ke-19 pengaruh Eropa menjadi cukup dominan.', 'Ciri khas arsitektur Indonesia kuno masih dapat dilihat melalui rumah-rumah adat dan/atau istana-istana kerajaan dari tiap-tiap provinsi. Taman Mini Indonesia Indah, salah satu objek wisata di Jakarta yang menjadi miniatur Indonesia, menampilkan keanekaragaman arsitektur Indonesia itu. Beberapa bangunan khas Indonesia misalnya Rumah Gadang, Monumen Nasional, dan Bangunan Fakultas Teknik Sipil dan Perencanaan di Institut Teknologi Bandung.', 'Olahraga yang paling populer di Indonesia adalah sepak bola dan bulu tangkis. Liga Super Indonesia adalah liga klub sepak bola utama di Indonesia. Olahraga tradisional Indonesia termasuk sepak takraw dan karapan sapi. Di wilayah dengan sejarah perang antar suku, kontes pertarungan diadakan, seperti caci di Flores, dan pasola di Sumba. Pencak silat adalah seni bela diri yang unik yang berasal dari wilayah Indonesia. Seni bela diri ini kadang-kadang ditampilkan pada acara-acara pertunjukkan yang biasanya diikuti dengan musik tradisional Indonesia berupa Gamelan dan seni musik tradisional lainnya sesuai dengan daerah asalnya. Olahraga di Indonesia biasanya berorientasi pada pria dan olahraga spektator sering berhubungan dengan judi yang ilegal di Indonesia.[117]', 'Di ajang kompetisi multi cabang, prestasi atlet-atlet Indonesia tidak terlalu mengesankan. Di Olimpiade, prestasi terbaik Indonesia diraih pada saat Olimpiade 1992, di mana Indonesia menduduki peringkat 24 dengan meraih 2 emas 2 perak dan 1 perunggu, kelima medali tersebut diraih melalui cabang bulu tangkis. Pada era 1960 hingga 2000, Indonesia merajai bulu tangkis. Atlet-atlet putra Indonesia seperti Rudi Hartono, Liem Swie King, Icuk Sugiarto, Alan Budikusuma, Ricky Subagja, dan Rexy Mainaky merajai kejuaraan-kejuaraan dunia. Rudi Hartono yang dianggap sebagai maestro bulu tangkis dunia, menjadi juara All England terbanyak sepanjang sejarah perbulu tangkisan Indonesia. Ia meraih 8 gelar juara, dengan 7 gelar diraihnya secara berturut-turut. Selain bulu tangkis, atlet-atlet tinju Indonesia juga mampu meraih gelar juara dunia, seperti Elyas Pical, Nico Thomas[118], dan Chris John.[119] dalam ajang sepak bola Internasional, Timnas Indonesia (Hindia Belanda) merupakan tim Asia pertama yang berpartisipasi di Piala Dunia pada tahun 1938 di Prancis.', 'Seni musik di Indonesia, baik tradisional maupun modern sangat banyak terbentang dari Sabang hingga Merauke. Setiap provinsi di Indonesia memiliki musik tradisional dengan ciri khasnya tersendiri. Musik tradisional termasuk juga Keroncong yang berasal dari keturunan Portugis di daerah Tugu, Jakarta,[120] yang dikenal oleh semua rakyat Indonesia bahkan hingga ke mancanegara. Ada juga musik yang merakyat di Indonesia yang dikenal dengan nama dangdut yaitu musik beraliran Melayu modern yang dipengaruhi oleh musik India sehingga musik dangdut ini sangat berbeda dengan musik tradisional Melayu yang sebenarnya, seperti musik Melayu Deli, Melayu Riau, dan sebagainya.', 'Alat musik tradisional yang merupakan alat musik khas Indonesia memiliki banyak ragam dari pelbagai daerah di Indonesia, namun banyak pula alat musik tradisional Indonesia yang diklaim oleh negara lain[121] untuk kepentingan penambahan budaya dan seni musiknya sendiri dengan mematenkan hak cipta seni dan warisan budaya Indonesia ke lembaga Internasional UNESCO. Alat musik tradisional Indonesia antara lain meliputi:', 'Sebagai negara yang beragam, Indonesia juga memiliki lagu daerah yang terdapat dimasing-masing daerah. Berikut daftar lagu daerah Indonesia berdasarkan provinsinya.', 'Masakan Indonesia bervariasi bergantung pada wilayahnya.[152] Nasi adalah makanan pokok dan dihidangkan dengan lauk daging dan sayur. Bumbu (terutama cabai), santan, ikan, dan ayam adalah bahan yang penting.[153]', 'Sepanjang sejarah, Indonesia telah menjadi tempat perdagangan antara dua benua. Ini menyebabkan terbawanya banyak bumbu, bahan makanan dan teknik memasak dari bangsa Melayu sendiri, India, Timur tengah, Tionghoa, dan Eropa. Semua ini bercampur dengan ciri khas makanan Indonesia tradisional, menghasilkan banyak keanekaragaman yang tidak ditemukan di daerah lain. Bahkan bangsa Spanyol dan Portugis, telah mendahului bangsa Belanda dengan membawa banyak produk dari dunia baru ke Indonesia.', 'Sambal, sate, bakso, soto, dan nasi goreng merupakan beberapa contoh makanan yang biasa dimakan masyarakat Indonesia setiap hari.[154] Selain disajikan di warung atau restoran, terdapat pula aneka makanan khas Indonesia yang dijual oleh para pedagang keliling menggunakan gerobak atau pikulan. Pedagang ini menyajikan bubur ayam, mie ayam, mi bakso, mi goreng, nasi goreng, aneka macam soto, siomay, sate, nasi uduk, dan lain-lain.', 'Rumah makan Padang yang menyajikan nasi Padang, yaitu nasi disajikan bersama aneka lauk-pauk Masakan Padang, mudah ditemui di berbagai kota di Indonesia. Selain itu Warung Tegal yang menyajikan masakan Jawa khas Tegal dengan harga yang terjangkau juga tersebar luas. Nasi rames atau nasi campur yang berisi nasi beserta lauk atau sayur pilihan dijual di warung nasi di tempat-tempat umum, seperti stasiun kereta api, pasar, dan terminal bus. Di Daerah Istimewa Yogyakarta dan sekitarnya dikenal nasi kucing sebagai nasi rames yang berukuran kecil dengan harga murah, nasi kucing sering dijual di atas angkringan, sejenis warung kaki lima. Penganan kecil semisal kue-kue banyak dijual di pasar tradisional. Kue-kue tersebut biasanya berbahan dasar beras, ketan, ubi kayu, ubi jalar, terigu, atau sagu.', 'Film pertama yang diproduksi pertama kalinya di nusantara adalah film bisu tahun 1926 yang berjudul Loetoeng Kasaroeng dan dibuat oleh sutradara Belanda G. Kruger dan L. Heuveldorp pada zaman HindiaBelanda. Film ini dibuat dengan aktor lokal oleh Perusahaan Film Jawa NV di Bandung dan muncul pertama kalinya pada tanggal 31 Desember, 1926 di teater Elite and Majestic, Bandung. Setelah itu, lebih dari 2.200 film diproduksi. Pada masa awal kemerdekaan, sineas-sineas Indonesia belum banyak bermunculan. Di antara sineas yang ada, Usmar Ismail merupakan salah satu sutradara paling produktif, dengan film pertamanya Harta Karun (1949). Namun kemudian film pertama yang secara resmi diakui sebagai film pertama Indonesia sebagai negara berkedaulatan adalah film Darah dan Doa (1950) yang disutradarai Usmar Ismail. Dekade 1970 hingga 2000-an, Arizal muncul sebagai sutradara film paling produktif. Tak kurang dari 52 buah film dan 8 judul sinetron dengan 1.196 episode telah dihasilkannya.', 'Popularitas industri film Indonesia memuncak pada tahun 1980-an dan mendominasi bioskop di Indonesia,[155] meskipun kepopulerannya berkurang pada awal tahun 1990-an. Antara tahun 2000 hingga 2005, jumlah film Indonesia yang dirilis setiap tahun meningkat.[155] Film Laskar Pelangi (2008) yang diangkat dari novel karya Andrea Hirata menjadi film dengan pendapatan tertinggi sepanjang sejarah perfilman Indonesia saat ini.', 'Bukti tulisan tertua di Indonesia adalah berbagai prasasti berbahasa Sanskerta pada abad ke-5 Masehi. Figur penting dalam sastra modern Indonesia termasuk: pengarang Belanda Multatuli yang mengkritik perlakuan Belanda terhadap Indonesia selama zaman penjajahan Belanda; Muhammad Yamin dan Hamka yang merupakan penulis dan politikus pra-kemerdekaan;[156] dan Pramoedya Ananta Toer, pembuat novel Indonesia yang paling terkenal.[157] Selain novel, sastra tulis Indonesia juga berupa puisi, pantun, dan sajak. Chairil Anwar merupakan penulis puisi Indonesia yang paling ternama. Banyak orang Indonesia memiliki tradisi lisan yang kuat, yang membantu mendefinisikan dan memelihara identitas budaya mereka.[158]', 'Kebebasan pers di Indonesia meningkat setelah berakhirnya kekuasaan Presiden Soeharto. Stasiun televisi termasuk 14 stasiun televisi swasta nasional, dan jaringan daerah yang bersaing dengan stasiun televisi negeri TVRI. Stasiun radio swasta menyiarkan berita mereka dan program penyiaran asing. Dilaporkan terdapat 20 juta pengguna internet di Indonesia pada tahun 2007.[159] Hingga tahun 2014, Jumlah netizen (pengguna internet) bertambah pesat menjadi 83.7 juta orang atau terbanyak keenam di dunia.[160]', 'Indonesia hanya memiliki satu bahasa nasional atau bahasa negara, yakni Bahasa Indonesia.[161] Campur tangan negara terhadap bahasa nasional diselenggarakan melalui Badan Pengembangan dan Pembinaan Bahasa di bawah Kementerian Pendidikan dan Kebudayaan.[162]', 'Indonesia memiliki lebih dari 721 bahasa daerah[163]. Di antara ratusan bahasa daerah tersebut, yang paling banyak sebarannya adalah di Papua dan Kalimantan, sedangkan yang paling sedikit adalah di pulau Jawa. Menurut jumlah penuturnya, bahasa daerah yang paling banyak digunakan di Indonesia berturut-turut adalah: Jawa (80 juta penutur), Melayu-Indonesia, Sunda, Madura, Batak, Minangkabau, Bugis, Aceh, Bali, Banjar.', 'Bahasa Inggris sebagai bahasa internasional telah diperkenalkan oleh pemerintah Indonesia kepada para pelajar mulai jenjang pendidikan dasar.[164] Meski demikian, dengan berbagai alasan terdapat upaya untuk menghapus pelajaran bahasa Inggris di tingkat sekolah dasar.[165][166]', 'Bagi penganut agama Islam yang menjadi kaum mayoritas di Indonesia,[167] bahasa Arab adalah bahasa asing yang memiliki kedudukan khusus, karena harus dipraktikkan dalam ibadah harian tertentu, misalnya Shalat[168]. Meskipun demikian, bahasa Arab tidak menjadi bahasa pergaulan umum sejak periode awal keberadaannya di Indonesia.[169]', 'Wilayah Indonesia memiliki keanekaragaman makhluk hidup yang tinggi sehingga oleh beberapa pihak wilayah ekologi Indonesia disebut dengan istilah \"Mega biodiversity\" atau \"keanekaragaman mahluk hidup yang tinggi\"[170][171] umumnya dikenal sebagai Indomalaya atau Malesia berdasarkan penelitian bahwa 10 persen tumbuhan, 12 persen mamalia, 16 persen reptil, 17 persen burung, 25 persen ikan yang ada di dunia hidup di Indonesia, padahal luas Indonesia hanya 1,3\\xa0% dari luas Bumi. Kekayaan makhluk hidup Indonesia menduduki peringkat ketiga setelah Brasil dan Republik Demokratik Kongo.[172]', 'Meskipun demikian, Guinness World Records pada 2008 pernah mencatat rekor Indonesia sebagai negara yang paling kencang laju kerusakan hutannya di dunia. Setiap tahun Indonesia kehilangan hutan seluas 1,8 juta hektare. Kerusakan yang terjadi di daerah hulu (hutan) juga turut merusak kawasan di daerah hilir (pesisir).[173] Menurut catatan Down The Earth, proyek Asian Development Bank (ADB) di sektor kelautan Indonesia telah memicu terjadinya alih fungsi secara besar-besaran hutan bakau menjadi kawasan pertambakan. Padahal hutan bakau, selain berfungsi melindungi pantai dari abrasi, merupakan habitat yang baik bagi berbagai jenis ikan. Kehancuran hutan bakau tersebut mengakibatkan nelayan harus mencari ikan dengan jarak semakin jauh dan menambah biaya operasional mereka dalam mencari ikan. Selain itu, hancurnya hutan bakau juga mengakibatkan semakin rentannya kawasan pesisir Indonesia terhadap terjangan air pasang laut dan banjir, terlebih di musim hujan.[174]', 'Menurut UNDP, Indeks Pembangunan Manusia (IPM) Indonesia mencapai angka 0,683[175] pada tahun 2015 dan masih menempati status sedang, sedangkan menurut Badan Pusat Statistik (BPS), IPM Indonesia telah mencapai angka 69,55 (0,695)[176] dan masih menempati status sedang pada tahun yang sama pula.', 'Perbedaan IPM yang dilapaorkan UNDP melalui Human Development Report (HDR) dengan BPS terletak pada besarnya angka IPM dan perincian. Selama ini, memang perbedaan angka IPM sudah dianggap lazim. Namun sejak sekitar tahun 2011, perbedaan angka IPM UNDP dan BPS meningkat secara signifikan. Dalam perihal perincian, karena UNDP melaporkan dalam tingkat internasional, laporan IPM Indonesia tidak dilaporkan hingga tingkat yang lebih rendah. Sebaliknya, karena BPS hanya melaporkan di tingkat nasional, BPS lebih memperinci bahkan hingga IPM di tingkat kota/kabupaten dalam laporan beberapa tahun (laporan IPM hingga tingkat kota/kabupaten jarang), namun yang selalu dilaporkan di bawah tingkat nasional tentunya adalah laporan IPM di tingkat provinsi/daerah.', 'IPM tahun 2016 dilaporkan terlebih dahulu oleh BPS pada semester pertama tahun 2017, sedangkan sampai saat ini, Human Development Report belum diluncurkan.', 'Berikut ini adalah daftar provinsi Indonesia menurut IPM tahun 2016 menurut BPS.[176]', 'Tahun 2017 untuk Perkiraan IPM Tahun 2016', 'Sungai Naf\\xa0(Bangladesh, Myanmar)\\xa0· Tepi Macclesfield (RRT, RT, Vietnam)\\xa0· Kepulauan Paracel (RRT, RT, Vietnam)\\xa0· Kepulauan Pratas (RRT, RT)\\xa0· Sabah (Malaysia, Filipina)\\xa0· Beting Scarborough (Filipina, RRT, RT)\\xa0· Kepulauan Spratly (Brunei, Malaysia, Filipina, RRT, RT, Vietnam)', 'Maluku\\xa0· Papua\\xa0· Chinland\\xa0· Aceh\\xa0· Nagaland\\xa0· Wa\\xa0· Zogam\\xa0· Bangsamoro\\xa0· Patani\\xa0· Sabah\\xa0· Serawak', '1. Ke-28 negara anggota Uni Eropa juga merupakan anggota WTO dengan hak sendiri:', '2. Wilayah administratif khusus Republik Rakyat Tiongkok, terdaftar dengan nama \"Hong Kong, Tiongkok\" dan \"Makau,Tiongkok\".', 'Afganistan\\xa0· Afrika Selatan\\xa0· Republik Afrika Tengah\\xa0· Aljazair\\xa0· Angola\\xa0· Antigua dan Barbuda\\xa0· Arab Saudi\\xa0· Bahama\\xa0· Bahrain\\xa0· Bangladesh\\xa0· Barbados\\xa0· Belarus\\xa0· Belize\\xa0· Benin\\xa0· Bhutan\\xa0· Bolivia\\xa0· Botswana\\xa0· Brunei\\xa0· Burkina Faso\\xa0· Burundi\\xa0· Chad\\xa0· Chili\\xa0· Djibouti\\xa0· Dominika\\xa0· Republik Dominika\\xa0· Ekuador\\xa0· Mesir\\xa0· Guinea Khatulistiwa\\xa0· Eritrea\\xa0· Ethiopia\\xa0· Filipina\\xa0· Gabon\\xa0· Gambia\\xa0· Ghana\\xa0· Grenada\\xa0· Guatemala\\xa0· Guinea\\xa0· Guinea-Bissau\\xa0· Guyana\\xa0· Honduras\\xa0· India\\xa0· Indonesia\\xa0· Iran\\xa0· Jamaika\\xa0· Kamboja\\xa0· Kamerun\\xa0· Kenya\\xa0· Kolombia\\xa0· Komoro\\xa0· Republik Kongo\\xa0· Republik Demokratik Kongo\\xa0· Korea Utara\\xa0· Kuba\\xa0· Kuwait\\xa0· Laos\\xa0· Lebanon\\xa0· Lesotho\\xa0· Liberia\\xa0· Libya\\xa0· Madagaskar\\xa0· Maladewa\\xa0· Malawi\\xa0· Malaysia\\xa0· Mali\\xa0· Mauritania\\xa0· Mauritius\\xa0· Mongolia\\xa0· Maroko\\xa0· Mozambik\\xa0· Myanmar\\xa0· Namibia\\xa0· Nepal\\xa0· Nikaragua\\xa0· Niger\\xa0· Nigeria\\xa0· Oman\\xa0· Pakistan\\xa0· Palestina\\xa0· Panama\\xa0· Pantai Gading\\xa0· Papua Nugini\\xa0· Peru\\xa0· Qatar\\xa0· Rwanda\\xa0· Saint Lucia\\xa0· Saint Vincent dan Grenadines\\xa0· São Tomé dan Príncipe\\xa0· Senegal\\xa0· Seychelles\\xa0· Sierra Leone\\xa0· Singapura\\xa0· Somalia\\xa0· Sri Lanka\\xa0· Sudan\\xa0· Suriname\\xa0· Swaziland\\xa0· Suriah\\xa0· Tanjung Verde\\xa0· Tanzania\\xa0· Thailand\\xa0· Timor Leste\\xa0· Togo\\xa0· Trinidad dan Tobago\\xa0· Tunisia\\xa0· Turkmenistan\\xa0· Uganda\\xa0· Uni Emirat Arab\\xa0· Uzbekistan\\xa0· Vanuatu\\xa0· Venezuela\\xa0· Vietnam\\xa0· Yaman\\xa0· Yordania\\xa0· Zambia\\xa0· Zimbabwe', 'Armenia\\xa0· Azerbaijan\\xa0· Brasil\\xa0· Tiongkok\\xa0· El Salvador\\xa0· Kazakhstan\\xa0· Kosta Rika\\xa0· Kroasia\\xa0· Kirgizstan\\xa0· Meksiko\\xa0· Montenegro\\xa0· Serbia\\xa0· Ukraina\\xa0· Uruguay', 'Uni Afrika\\xa0· Liga Arab\\xa0· Perserikatan Bangsa-Bangsa', 'Afganistan\\xa0· Albania\\xa0· Aljazair\\xa0· Arab Saudi\\xa0· Azerbaijan\\xa0· Bahrain\\xa0· Bangladesh\\xa0· Benin\\xa0· Brunei\\xa0· Burkina Faso\\xa0· Chad\\xa0· Djibouti\\xa0· Gabon\\xa0· Gambia\\xa0· Guinea\\xa0· Guinea Bissau\\xa0· Guyana\\xa0· Indonesia\\xa0· Irak\\xa0· Iran\\xa0· Kamerun\\xa0· Kazakhstan\\xa0· Komoro\\xa0· Kirgizstan\\xa0· Kuwait\\xa0· Lebanon\\xa0· Libya\\xa0· Maladewa\\xa0· Malaysia\\xa0· Mali\\xa0· Maroko\\xa0· Mauritania\\xa0· Mesir\\xa0· Mozambik\\xa0· Niger\\xa0· Nigeria\\xa0· Oman\\xa0· Pakistan\\xa0· Palestina\\xa0· Pantai Gading\\xa0· Qatar\\xa0· Senegal\\xa0· Sierra Leone\\xa0· Somalia\\xa0· Sudan\\xa0· Suriah\\xa0· Suriname\\xa0· Tajikistan\\xa0· Togo\\xa0· Tunisia\\xa0· Turki\\xa0· Turkmenistan\\xa0· Uganda\\xa0· Uni Emirat Arab\\xa0· Uzbekistan\\xa0· Yaman\\xa0· Yordania', '\\xa0Aljazair\\n\\xa0Argentina\\n\\xa0Brasil', '\\xa0Chili\\n\\xa0India\\n\\xa0Indonesia', '\\xa0Iran\\n\\xa0Jamaika\\n\\xa0Kenya', '\\xa0Malaysia\\n\\xa0Meksiko\\n\\xa0Mesir', '\\xa0Nigeria\\n\\xa0Peru\\n\\xa0Senegal', '\\xa0Sri Lanka\\n\\xa0Venezuela\\n\\xa0Zimbabwe', '\\xa0Afrika Selatan\\xa0· \\xa0Amerika Serikat\\xa0· \\xa0Arab Saudi\\xa0· \\xa0Argentina\\xa0· \\xa0Australia\\xa0· \\xa0Brasil\\xa0· \\xa0Britania Raya\\xa0· \\xa0RRC\\xa0· \\xa0India\\n\\xa0Indonesia\\xa0· \\xa0Italia\\xa0· \\xa0Jepang\\xa0· \\xa0Jerman\\xa0· \\xa0Kanada\\xa0· \\xa0Korea Selatan\\xa0· \\xa0Meksiko\\xa0· \\xa0Perancis\\xa0· \\xa0Rusia\\xa0· \\xa0Turki\\xa0· \\xa0Uni Eropa']\n"
     ]
    }
   ],
   "source": [
    "import re\n",
    "import urllib.request\n",
    "from bs4 import BeautifulSoup\n",
    "\n",
    "url=urllib.request.urlopen('https://id.wikipedia.org/wiki/Indonesia')\n",
    "isi=url.read()\n",
    "soup=BeautifulSoup(isi,'lxml')\n",
    "\n",
    "k=[]\n",
    "for teks in soup.findAll('p'):\n",
    "    teks.getText()\n",
    "    k.append(teks.getText())\n",
    "print (k)\n",
    "\n"
   ]
  },
  {
   "cell_type": "code",
   "execution_count": 71,
   "metadata": {
    "collapsed": false,
    "deletable": true,
    "editable": true
   },
   "outputs": [
    {
     "ename": "TypeError",
     "evalue": "Empty 'DataFrame': no numeric data to plot",
     "output_type": "error",
     "traceback": [
      "\u001b[1;31m---------------------------------------------------------------------------\u001b[0m",
      "\u001b[1;31mTypeError\u001b[0m                                 Traceback (most recent call last)",
      "\u001b[1;32m<ipython-input-71-9d26fd8a63e7>\u001b[0m in \u001b[0;36m<module>\u001b[1;34m()\u001b[0m\n\u001b[0;32m      8\u001b[0m \u001b[0mre\u001b[0m\u001b[1;33m.\u001b[0m\u001b[0mfindall\u001b[0m\u001b[1;33m(\u001b[0m\u001b[0mpola\u001b[0m\u001b[1;33m,\u001b[0m\u001b[0mkalimat\u001b[0m\u001b[1;33m)\u001b[0m\u001b[1;33m\u001b[0m\u001b[0m\n\u001b[0;32m      9\u001b[0m \u001b[0mcount_kalimat\u001b[0m\u001b[1;33m=\u001b[0m\u001b[0mcollections\u001b[0m\u001b[1;33m.\u001b[0m\u001b[0mCounter\u001b[0m\u001b[1;33m(\u001b[0m\u001b[0mre\u001b[0m\u001b[1;33m.\u001b[0m\u001b[0mfindall\u001b[0m\u001b[1;33m(\u001b[0m\u001b[0mpola\u001b[0m\u001b[1;33m,\u001b[0m\u001b[0mkalimat\u001b[0m\u001b[1;33m)\u001b[0m\u001b[1;33m)\u001b[0m\u001b[1;33m\u001b[0m\u001b[0m\n\u001b[1;32m---> 10\u001b[1;33m \u001b[0mpd\u001b[0m\u001b[1;33m.\u001b[0m\u001b[0mSeries\u001b[0m\u001b[1;33m(\u001b[0m\u001b[0mcount_kalimat\u001b[0m\u001b[1;33m)\u001b[0m\u001b[1;33m.\u001b[0m\u001b[0mplot\u001b[0m\u001b[1;33m.\u001b[0m\u001b[0mbarh\u001b[0m\u001b[1;33m(\u001b[0m\u001b[1;33m)\u001b[0m\u001b[1;33m\u001b[0m\u001b[0m\n\u001b[0m",
      "\u001b[1;32mC:\\Users\\Agri Fina\\AppData\\Local\\Enthought\\Canopy\\edm\\envs\\User\\lib\\site-packages\\pandas\\tools\\plotting.py\u001b[0m in \u001b[0;36mbarh\u001b[1;34m(self, **kwds)\u001b[0m\n\u001b[0;32m   3650\u001b[0m         \u001b[0maxes\u001b[0m \u001b[1;33m:\u001b[0m \u001b[0mmatplotlib\u001b[0m\u001b[1;33m.\u001b[0m\u001b[0mAxesSubplot\u001b[0m \u001b[1;32mor\u001b[0m \u001b[0mnp\u001b[0m\u001b[1;33m.\u001b[0m\u001b[0marray\u001b[0m \u001b[0mof\u001b[0m \u001b[0mthem\u001b[0m\u001b[1;33m\u001b[0m\u001b[0m\n\u001b[0;32m   3651\u001b[0m         \"\"\"\n\u001b[1;32m-> 3652\u001b[1;33m         \u001b[1;32mreturn\u001b[0m \u001b[0mself\u001b[0m\u001b[1;33m(\u001b[0m\u001b[0mkind\u001b[0m\u001b[1;33m=\u001b[0m\u001b[1;34m'barh'\u001b[0m\u001b[1;33m,\u001b[0m \u001b[1;33m**\u001b[0m\u001b[0mkwds\u001b[0m\u001b[1;33m)\u001b[0m\u001b[1;33m\u001b[0m\u001b[0m\n\u001b[0m\u001b[0;32m   3653\u001b[0m \u001b[1;33m\u001b[0m\u001b[0m\n\u001b[0;32m   3654\u001b[0m     \u001b[1;32mdef\u001b[0m \u001b[0mbox\u001b[0m\u001b[1;33m(\u001b[0m\u001b[0mself\u001b[0m\u001b[1;33m,\u001b[0m \u001b[1;33m**\u001b[0m\u001b[0mkwds\u001b[0m\u001b[1;33m)\u001b[0m\u001b[1;33m:\u001b[0m\u001b[1;33m\u001b[0m\u001b[0m\n",
      "\u001b[1;32mC:\\Users\\Agri Fina\\AppData\\Local\\Enthought\\Canopy\\edm\\envs\\User\\lib\\site-packages\\pandas\\tools\\plotting.py\u001b[0m in \u001b[0;36m__call__\u001b[1;34m(self, kind, ax, figsize, use_index, title, grid, legend, style, logx, logy, loglog, xticks, yticks, xlim, ylim, rot, fontsize, colormap, table, yerr, xerr, label, secondary_y, **kwds)\u001b[0m\n\u001b[0;32m   3598\u001b[0m                            \u001b[0mcolormap\u001b[0m\u001b[1;33m=\u001b[0m\u001b[0mcolormap\u001b[0m\u001b[1;33m,\u001b[0m \u001b[0mtable\u001b[0m\u001b[1;33m=\u001b[0m\u001b[0mtable\u001b[0m\u001b[1;33m,\u001b[0m \u001b[0myerr\u001b[0m\u001b[1;33m=\u001b[0m\u001b[0myerr\u001b[0m\u001b[1;33m,\u001b[0m\u001b[1;33m\u001b[0m\u001b[0m\n\u001b[0;32m   3599\u001b[0m                            \u001b[0mxerr\u001b[0m\u001b[1;33m=\u001b[0m\u001b[0mxerr\u001b[0m\u001b[1;33m,\u001b[0m \u001b[0mlabel\u001b[0m\u001b[1;33m=\u001b[0m\u001b[0mlabel\u001b[0m\u001b[1;33m,\u001b[0m \u001b[0msecondary_y\u001b[0m\u001b[1;33m=\u001b[0m\u001b[0msecondary_y\u001b[0m\u001b[1;33m,\u001b[0m\u001b[1;33m\u001b[0m\u001b[0m\n\u001b[1;32m-> 3600\u001b[1;33m                            **kwds)\n\u001b[0m\u001b[0;32m   3601\u001b[0m     \u001b[0m__call__\u001b[0m\u001b[1;33m.\u001b[0m\u001b[0m__doc__\u001b[0m \u001b[1;33m=\u001b[0m \u001b[0mplot_series\u001b[0m\u001b[1;33m.\u001b[0m\u001b[0m__doc__\u001b[0m\u001b[1;33m\u001b[0m\u001b[0m\n\u001b[0;32m   3602\u001b[0m \u001b[1;33m\u001b[0m\u001b[0m\n",
      "\u001b[1;32mC:\\Users\\Agri Fina\\AppData\\Local\\Enthought\\Canopy\\edm\\envs\\User\\lib\\site-packages\\pandas\\tools\\plotting.py\u001b[0m in \u001b[0;36mplot_series\u001b[1;34m(data, kind, ax, figsize, use_index, title, grid, legend, style, logx, logy, loglog, xticks, yticks, xlim, ylim, rot, fontsize, colormap, table, yerr, xerr, label, secondary_y, **kwds)\u001b[0m\n\u001b[0;32m   2672\u001b[0m                  \u001b[0myerr\u001b[0m\u001b[1;33m=\u001b[0m\u001b[0myerr\u001b[0m\u001b[1;33m,\u001b[0m \u001b[0mxerr\u001b[0m\u001b[1;33m=\u001b[0m\u001b[0mxerr\u001b[0m\u001b[1;33m,\u001b[0m\u001b[1;33m\u001b[0m\u001b[0m\n\u001b[0;32m   2673\u001b[0m                  \u001b[0mlabel\u001b[0m\u001b[1;33m=\u001b[0m\u001b[0mlabel\u001b[0m\u001b[1;33m,\u001b[0m \u001b[0msecondary_y\u001b[0m\u001b[1;33m=\u001b[0m\u001b[0msecondary_y\u001b[0m\u001b[1;33m,\u001b[0m\u001b[1;33m\u001b[0m\u001b[0m\n\u001b[1;32m-> 2674\u001b[1;33m                  **kwds)\n\u001b[0m\u001b[0;32m   2675\u001b[0m \u001b[1;33m\u001b[0m\u001b[0m\n\u001b[0;32m   2676\u001b[0m \u001b[1;33m\u001b[0m\u001b[0m\n",
      "\u001b[1;32mC:\\Users\\Agri Fina\\AppData\\Local\\Enthought\\Canopy\\edm\\envs\\User\\lib\\site-packages\\pandas\\tools\\plotting.py\u001b[0m in \u001b[0;36m_plot\u001b[1;34m(data, x, y, subplots, ax, kind, **kwds)\u001b[0m\n\u001b[0;32m   2468\u001b[0m         \u001b[0mplot_obj\u001b[0m \u001b[1;33m=\u001b[0m \u001b[0mklass\u001b[0m\u001b[1;33m(\u001b[0m\u001b[0mdata\u001b[0m\u001b[1;33m,\u001b[0m \u001b[0msubplots\u001b[0m\u001b[1;33m=\u001b[0m\u001b[0msubplots\u001b[0m\u001b[1;33m,\u001b[0m \u001b[0max\u001b[0m\u001b[1;33m=\u001b[0m\u001b[0max\u001b[0m\u001b[1;33m,\u001b[0m \u001b[0mkind\u001b[0m\u001b[1;33m=\u001b[0m\u001b[0mkind\u001b[0m\u001b[1;33m,\u001b[0m \u001b[1;33m**\u001b[0m\u001b[0mkwds\u001b[0m\u001b[1;33m)\u001b[0m\u001b[1;33m\u001b[0m\u001b[0m\n\u001b[0;32m   2469\u001b[0m \u001b[1;33m\u001b[0m\u001b[0m\n\u001b[1;32m-> 2470\u001b[1;33m     \u001b[0mplot_obj\u001b[0m\u001b[1;33m.\u001b[0m\u001b[0mgenerate\u001b[0m\u001b[1;33m(\u001b[0m\u001b[1;33m)\u001b[0m\u001b[1;33m\u001b[0m\u001b[0m\n\u001b[0m\u001b[0;32m   2471\u001b[0m     \u001b[0mplot_obj\u001b[0m\u001b[1;33m.\u001b[0m\u001b[0mdraw\u001b[0m\u001b[1;33m(\u001b[0m\u001b[1;33m)\u001b[0m\u001b[1;33m\u001b[0m\u001b[0m\n\u001b[0;32m   2472\u001b[0m     \u001b[1;32mreturn\u001b[0m \u001b[0mplot_obj\u001b[0m\u001b[1;33m.\u001b[0m\u001b[0mresult\u001b[0m\u001b[1;33m\u001b[0m\u001b[0m\n",
      "\u001b[1;32mC:\\Users\\Agri Fina\\AppData\\Local\\Enthought\\Canopy\\edm\\envs\\User\\lib\\site-packages\\pandas\\tools\\plotting.py\u001b[0m in \u001b[0;36mgenerate\u001b[1;34m(self)\u001b[0m\n\u001b[0;32m   1039\u001b[0m     \u001b[1;32mdef\u001b[0m \u001b[0mgenerate\u001b[0m\u001b[1;33m(\u001b[0m\u001b[0mself\u001b[0m\u001b[1;33m)\u001b[0m\u001b[1;33m:\u001b[0m\u001b[1;33m\u001b[0m\u001b[0m\n\u001b[0;32m   1040\u001b[0m         \u001b[0mself\u001b[0m\u001b[1;33m.\u001b[0m\u001b[0m_args_adjust\u001b[0m\u001b[1;33m(\u001b[0m\u001b[1;33m)\u001b[0m\u001b[1;33m\u001b[0m\u001b[0m\n\u001b[1;32m-> 1041\u001b[1;33m         \u001b[0mself\u001b[0m\u001b[1;33m.\u001b[0m\u001b[0m_compute_plot_data\u001b[0m\u001b[1;33m(\u001b[0m\u001b[1;33m)\u001b[0m\u001b[1;33m\u001b[0m\u001b[0m\n\u001b[0m\u001b[0;32m   1042\u001b[0m         \u001b[0mself\u001b[0m\u001b[1;33m.\u001b[0m\u001b[0m_setup_subplots\u001b[0m\u001b[1;33m(\u001b[0m\u001b[1;33m)\u001b[0m\u001b[1;33m\u001b[0m\u001b[0m\n\u001b[0;32m   1043\u001b[0m         \u001b[0mself\u001b[0m\u001b[1;33m.\u001b[0m\u001b[0m_make_plot\u001b[0m\u001b[1;33m(\u001b[0m\u001b[1;33m)\u001b[0m\u001b[1;33m\u001b[0m\u001b[0m\n",
      "\u001b[1;32mC:\\Users\\Agri Fina\\AppData\\Local\\Enthought\\Canopy\\edm\\envs\\User\\lib\\site-packages\\pandas\\tools\\plotting.py\u001b[0m in \u001b[0;36m_compute_plot_data\u001b[1;34m(self)\u001b[0m\n\u001b[0;32m   1148\u001b[0m         \u001b[1;32mif\u001b[0m \u001b[0mis_empty\u001b[0m\u001b[1;33m:\u001b[0m\u001b[1;33m\u001b[0m\u001b[0m\n\u001b[0;32m   1149\u001b[0m             raise TypeError('Empty {0!r}: no numeric data to '\n\u001b[1;32m-> 1150\u001b[1;33m                             'plot'.format(numeric_data.__class__.__name__))\n\u001b[0m\u001b[0;32m   1151\u001b[0m \u001b[1;33m\u001b[0m\u001b[0m\n\u001b[0;32m   1152\u001b[0m         \u001b[0mself\u001b[0m\u001b[1;33m.\u001b[0m\u001b[0mdata\u001b[0m \u001b[1;33m=\u001b[0m \u001b[0mnumeric_data\u001b[0m\u001b[1;33m\u001b[0m\u001b[0m\n",
      "\u001b[1;31mTypeError\u001b[0m: Empty 'DataFrame': no numeric data to plot"
     ]
    }
   ],
   "source": [
    "\n",
    "%matplotlib inline\n",
    "import matplotlib.pyplot as plt\n",
    "import collections\n",
    "import pandas as pd\n",
    "kalimat=k[0]\n",
    "pola='[A-Z]\\w+'\n",
    "re.findall(pola,kalimat)\n",
    "count_kalimat=collections.Counter(re.findall(pola,kalimat))\n",
    "pd.Series(count_kalimat).plot.barh()\n"
   ]
  },
  {
   "cell_type": "code",
   "execution_count": 97,
   "metadata": {
    "collapsed": false,
    "deletable": true,
    "editable": true
   },
   "outputs": [
    {
     "name": "stdout",
     "output_type": "stream",
     "text": [
      "['\\n\\n\\nDaftar\\n\\nMasuk\\n\\n\\n\\n \\n\\n\\n\\n\\nUnduh Aplikasi\\n\\n\\n\\n\\nAndroid\\niOS\\n\\n\\n\\n\\n\\n\\n\\n\\nBantuan\\n\\nAffiliate\\n\\nJD.com Main Site\\n\\n\\n', '\\n\\nDaftar\\n\\nMasuk\\n\\n\\n\\n \\n\\n\\n\\n\\nUnduh Aplikasi\\n\\n\\n\\n\\nAndroid\\niOS\\n\\n\\n\\n\\n\\n\\n\\n\\nBantuan\\n\\nAffiliate\\n\\nJD.com Main Site\\n\\n', 'Unduh Aplikasi', '\\n\\n\\n\\nAndroid\\niOS\\n\\n\\n\\n\\n\\n', '', '\\n\\nAndroid\\niOS\\n\\n\\n\\n\\n', '\\nAndroid\\niOS\\n', '\\n\\n', '\\n\\nJD.ID Pilihan Terbaik Belanja Online\\n\\n\\n\\n\\n\\n\\n\\n\\n\\n\\n\\n\\n\\n\\n\\n\\n\\n\\n\\nMy Troli\\n\\n\\n\\n\\n\\n\\n\\n\\n\\n\\n\\n', '\\nJD.ID Pilihan Terbaik Belanja Online\\n\\n\\n\\n\\n\\n\\n\\n\\n\\n\\n\\n\\n\\n\\n\\n\\n\\n\\n\\nMy Troli\\n\\n\\n\\n\\n\\n\\n\\n\\n\\n\\n', '\\n\\n\\n\\n\\n\\n\\n\\n\\n\\n\\n\\n\\n\\n', '\\n\\n\\n\\n\\n\\n', '\\n\\n\\n', '\\n', '\\n\\nMy Troli\\n\\n', '\\n\\n\\n\\n\\n', '', '\\n\\n', '', '\\n\\n\\n\\nKategori\\n\\n\\n\\n\\n\\n\\n', '\\n\\n\\nKategori\\n\\n\\n\\n\\n\\n', '\\n\\nKategori\\n\\n\\n\\n', '\\nKategori\\n', '', '', '', '\\n\\n\\nSmart & Gaming\\n                 \\xa0\\xa0>\\xa0\\xa0\\n                                  Smart Device\\n                                                      \\xa0\\xa0>\\xa0\\xa0\\n                                  Smart Home\\n\\n\\n\\n\\n\\n\\n\\n\\n\\n\\n\\n\\n\\n\\n\\n\\n\\n\\n\\n\\n\\n\\n\\n\\n\\n\\n\\n\\n\\n\\n\\n\\n\\n\\n\\n\\nHalaman sebelumnya\\nHalaman selanjutnya\\n\\n\\n\\n\\nShare :\\n        \\n\\n\\n\\n \\n\\n\\n\\n\\nGoogle Chromecast 2 2015 HDMI Streaming Media Player - Black - Toko Edition\\n\\n\\n\\n\\n\\n\\n\\n Respon Pelanggan        \\n\\n\\n\\n\\n\\nHarga:\\n\\n\\n\\n\\n\\nHarga Awal:\\n\\n\\n\\nPaket:\\n\\n\\n\\nKupon:\\n\\n\\n\\nPromosi:\\n\\n\\n\\n\\n\\n\\nCicilan:\\n\\n\\n                {if enabled}\\n                    {if installment.rate == 0}\\n                        Cicilan 0% mulai dari                    {else}\\n                        Cicilan ringan mulai dari                    {/if}\\n                    <span class=\"price\">Rp ${installment.price}</span> / bulan                    <select class=\"installment-divide\">\\n                        {for divideMonth in installment.supplyDivideMonths}\\n                        <option value=\"${divideMonth}\" {if installment.divide == divideMonth} selected {/if}>${divideMonth}</option>\\n                        {/for}\\n                    </select>\\n                    <span class=\"banks\">\\n                        <span class=\"num\">${installment.supplyBanks.length} Bank</span>\\n                        <span class=\"banks-dpl\">\\n                            <span class=\"banks-imgs\">\\n                                {for bank in installment.supplyBanks}\\n                                <img src=\"${bank.pcLogoUrl}\" alt=\"${bank.bankFullName}\"/>\\n                                {/for}\\n                            </span>\\n                            <span class=\"arrow\"><i></i></span>\\n                        </span>\\n                    </span>\\n                {else}\\n                    Saldo terlalu kecil, sementara tidak mendukung angsuran.                {/if}\\n            \\n\\n\\n\\nDikirim ke:\\n\\n\\n\\n\\n\\n\\n\\n\\n\\n\\n\\n\\n\\n\\n\\n\\n\\n\\n\\n\\n\\n\\n\\n\\n\\n\\n\\n\\n\\n\\n\\n\\n\\n\\n\\n\\n\\n\\n\\n\\n\\n\\n\\n\\n\\n\\n\\n\\n\\n\\n\\n\\n\\n\\nPengiriman:\\n\\n\\n\\n\\n\\n\\n\\n\\n                ssa = [{\"onlyNum\":0,\"rfid\":\"\",\"skuId\":10044059}];\\n                                    sst = 0;\\n                            \\n\\n\\n\\n\\n\\n\\n\\n\\n\\n\\n\\n\\n\\n\\n\\n\\n\\n\\n\\n\\n\\n\\n\\n\\n\\n\\n\\nPembayaran :\\n\\n\\n\\n\\n\\n\\n\\n\\n\\n\\n\\n\\nKebijakan Pengembalian :\\nJika barang yang dikirim tidak sesuai dengan deskripsi atau kualitasnya buruk, anda dapat mengembalikan barang tersebut kepada kami dan kami akan mengembalikan uang anda sepenuhnya.\\n\\n\\n\\n\\n\\n\\n\\n\\nNama toko:\\n\\nM2 Store SM\\n\\n\\n\\n\\n \\n\\n\\nRekomendasi Kami\\nPromo Paketan\\n\\n\\n\\n\\n\\n\\n                <ul class=\"bd\">\\n                    {for recomWare in recommend}\\n                    {if recomWare_index < 7}\\n                    <li>\\n                        <div class=\"p-img\"><a href=\"/product/seoName_${recomWare.spuId}.html\" target=\"_blank\"><img src=\"//img20.jd.id/Indonesia/s160x160_/${recomWare.imgUri}\" alt=\"\"></a></div>\\n                        <div class=\"p-name\">\\n                            <a href=\"/product/seoName_${recomWare.spuId}.html\" title=\"${recomWare.spuName}\">${recomWare.spuName}</a>\\n                        </div>\\n                        <div class=\"p-price\"><strong ept=\"price\" J_wareId=\"${recomWare.spuId}\"></strong>\\n                        </div>\\n                    </li>\\n                    {/if}\\n                    {/for}\\n                </ul>\\n            \\n\\n\\n\\n\\n\\n\\n\\n\\nTentang Produk\\nSpesifikasi\\nReview Pelanggan\\nPertanyaan\\n\\n\\n\\n\\n\\n\\nDeskripsi Produk                                                Of Google Chromecast 2 2015 HDMI Streaming Media Player - Black - Toko Edition\\n                                            \\n\\n\\n\\nGOOGLE Chromecast 2 (2015)\\n\\n\\n\\n\\n\\nGoogle Chromecast merupakan aksesori canggih untuk mengubah TV Anda menjadi lebih cerdas. Dengan Google Chromecast, TV Anda bisa mengakses internet, memutar video, musik bahkan bermain game. Cukup siapkan TV dengan port HDMI, koneksi WiFi dan smartphone/tablet Android atau iOS dan Anda pun siap menikmati konten multimedia yang ada, langsung di layar TV.\\n\\n\\n\\n\\n\\nUnlimited Entertainment\\n\\nDengan Google Chromecast, Anda memiliki akses ke banyak konten hiburan dan multimedia seperti acara TV, film, lagu, radio, siaran olahraga, dan juga permainan. Anda pun jadi bisa menikmati konten tersebut dengan lebih nyaman di layar TV Anda, tak lagi terbatas oleh layar smartphone atau tablet yang kecil. Yang terpenting, Anda bisa meneruskan kegiatan Anda di smartphone/tablet dan tayangan di TV tidak terganggu ataupun sebaliknya.\\n\\n\\nMake Your TV Smarter\\n\\nJangan terburu-buru mengganti TV lama Anda dengan model terbaru. Dengan Google Chromecast, Anda serasa memiliki Smart TV berkat kemampuan cerdas dan beragam yang dimiliki. Smartphone/tablet Anda seakan berubah menjadi remote TV dan Anda pun bisa melakukan banyak hal baru seperti membuka halaman web, streaming video, musik, hingga mirror atau menampilkan apa yang ada pada layar smartphone/tablet Anda di layar TV.\\n \\n\\n\\n\\nDetail\\n\\n- Output: HDMI, CEC (Consumer Electronics Control)\\n- Video Resolution Max: 1080p\\n- Dimensi: 5,19 x 5,19 x 1,35 cm\\n- Berat: 39,1 gram\\n- Panjang kabel: 1,75 m\\n- Port: HDMI, microUSB\\n- Konektivitas: WiFi 802.11 b/g/n/ac (2.4GHz/5GHz)\\n- Support: Android 4,1+, iOS 7+, Windows 7+, Mac OS 10,7+, Chrome OS 28+\\n\\n\\n\\n\\n\\n\\n\\n\\n\\n\\n\\n\\n\\n\\n\\n\\n\\n\\n\\nPenilaian produk\\n\\n\\n\\n\\n\\n\\n\\n\\nRespon\\nTingkat-bintang\\nPembeli\\n\\n\\n\\n\\n\\n\\n\\n\\n\\n\\n\\n\\n\\n\\nPertanyaan\\n\\n\\n\\n\\n\\n                                                Diskusi Produk\\n                                            \\n\\n\\n                                                Stok\\n                                            \\n\\n\\n                                                Garansi\\n                                            \\n\\n\\n                                                Lainnya\\n                                            \\n\\n\\n\\n\\n\\n\\nTerkait PENGIRIMAN dan\\n                                PEMBAYARAN (termasuk CICILAN),\\n                                silahkan menghubungi layanan pelanggan kami di\\n                                1500-618,\\n                                Live Chat, atau\\n                                cs@jd.id\\n                                . Jam layanan kami mulai dari pukul 8:00-21:00,senin - jum\\'at.\\n                            \\n\\n\\n\\n!\\n\\n\\n\\nWarm prompt\\nBerikut ini adalah pertanyaan dari user lain, namun jika Anda ingin bertanya tentang produk ini, Silahkan tinggalkan pesan di kolom diskusi dibawah, kami akan merespon secepatnya!\\n\\n\\nPenjelasan\\nProduk specifikasi, stok, dan lainnya bisa ditanyakan di bagian ini, dan akan kami carikan orang yang tepat untuk menjawab dan kami janjikan bahwa jawaban dari kami adalah yang paling benar. Namun tentang pembayaran dan pengiriman, mohon kontak layanan pelanggan kami di 1500-618 atau cs@jd.id. Jam konsultasi kami adalah hari senin - jumat dari pukul 8:00 - 21:00. Mohon ditunggu untuk jawaban anda!\\n\\n\\n\\n\\n\\n\\nPost Pertanyaan\\n\\n\\n\\n\\n\\n\\n\\n\\nSemua ( 0 )\\n                                \\n\\n\\n\\nSemua\\nDiskusi Produk\\nStok\\nGaransi\\nLainnya\\n\\n\\n\\n\\n\\n\\n\\n\\n\\n\\n\\n\\n\\n\\n\\nProduk yang terakhir dilihat\\n\\n\\n\\n\\n \\n', '\\n\\nSmart & Gaming\\n                 \\xa0\\xa0>\\xa0\\xa0\\n                                  Smart Device\\n                                                      \\xa0\\xa0>\\xa0\\xa0\\n                                  Smart Home\\n\\n\\n\\n\\n\\n\\n\\n\\n\\n\\n\\n\\n\\n\\n\\n\\n\\n\\n\\n\\n\\n\\n\\n\\n\\n\\n\\n\\n\\n\\n\\n\\n\\n\\n\\n\\nHalaman sebelumnya\\nHalaman selanjutnya\\n\\n\\n\\n\\nShare :\\n        \\n\\n\\n\\n \\n\\n\\n\\n\\nGoogle Chromecast 2 2015 HDMI Streaming Media Player - Black - Toko Edition\\n\\n\\n\\n\\n\\n\\n\\n Respon Pelanggan        \\n\\n\\n\\n\\n\\nHarga:\\n\\n\\n\\n\\n\\nHarga Awal:\\n\\n\\n\\nPaket:\\n\\n\\n\\nKupon:\\n\\n\\n\\nPromosi:\\n\\n\\n\\n\\n\\n\\nCicilan:\\n\\n\\n                {if enabled}\\n                    {if installment.rate == 0}\\n                        Cicilan 0% mulai dari                    {else}\\n                        Cicilan ringan mulai dari                    {/if}\\n                    <span class=\"price\">Rp ${installment.price}</span> / bulan                    <select class=\"installment-divide\">\\n                        {for divideMonth in installment.supplyDivideMonths}\\n                        <option value=\"${divideMonth}\" {if installment.divide == divideMonth} selected {/if}>${divideMonth}</option>\\n                        {/for}\\n                    </select>\\n                    <span class=\"banks\">\\n                        <span class=\"num\">${installment.supplyBanks.length} Bank</span>\\n                        <span class=\"banks-dpl\">\\n                            <span class=\"banks-imgs\">\\n                                {for bank in installment.supplyBanks}\\n                                <img src=\"${bank.pcLogoUrl}\" alt=\"${bank.bankFullName}\"/>\\n                                {/for}\\n                            </span>\\n                            <span class=\"arrow\"><i></i></span>\\n                        </span>\\n                    </span>\\n                {else}\\n                    Saldo terlalu kecil, sementara tidak mendukung angsuran.                {/if}\\n            \\n\\n\\n\\nDikirim ke:\\n\\n\\n\\n\\n\\n\\n\\n\\n\\n\\n\\n\\n\\n\\n\\n\\n\\n\\n\\n\\n\\n\\n\\n\\n\\n\\n\\n\\n\\n\\n\\n\\n\\n\\n\\n\\n\\n\\n\\n\\n\\n\\n\\n\\n\\n\\n\\n\\n\\n\\n\\n\\n\\n\\nPengiriman:\\n\\n\\n\\n\\n\\n\\n\\n\\n                ssa = [{\"onlyNum\":0,\"rfid\":\"\",\"skuId\":10044059}];\\n                                    sst = 0;\\n                            \\n\\n\\n\\n\\n\\n\\n\\n\\n\\n\\n\\n\\n\\n\\n\\n\\n\\n\\n\\n\\n\\n\\n\\n\\n\\n\\n\\nPembayaran :\\n\\n\\n\\n\\n\\n\\n\\n\\n\\n\\n\\n\\nKebijakan Pengembalian :\\nJika barang yang dikirim tidak sesuai dengan deskripsi atau kualitasnya buruk, anda dapat mengembalikan barang tersebut kepada kami dan kami akan mengembalikan uang anda sepenuhnya.\\n\\n\\n\\n\\n\\n\\n\\n\\nNama toko:\\n\\nM2 Store SM\\n\\n\\n\\n\\n \\n\\n\\nRekomendasi Kami\\nPromo Paketan\\n\\n\\n\\n\\n\\n\\n                <ul class=\"bd\">\\n                    {for recomWare in recommend}\\n                    {if recomWare_index < 7}\\n                    <li>\\n                        <div class=\"p-img\"><a href=\"/product/seoName_${recomWare.spuId}.html\" target=\"_blank\"><img src=\"//img20.jd.id/Indonesia/s160x160_/${recomWare.imgUri}\" alt=\"\"></a></div>\\n                        <div class=\"p-name\">\\n                            <a href=\"/product/seoName_${recomWare.spuId}.html\" title=\"${recomWare.spuName}\">${recomWare.spuName}</a>\\n                        </div>\\n                        <div class=\"p-price\"><strong ept=\"price\" J_wareId=\"${recomWare.spuId}\"></strong>\\n                        </div>\\n                    </li>\\n                    {/if}\\n                    {/for}\\n                </ul>\\n            \\n\\n\\n\\n\\n\\n\\n\\n\\nTentang Produk\\nSpesifikasi\\nReview Pelanggan\\nPertanyaan\\n\\n\\n\\n\\n\\n\\nDeskripsi Produk                                                Of Google Chromecast 2 2015 HDMI Streaming Media Player - Black - Toko Edition\\n                                            \\n\\n\\n\\nGOOGLE Chromecast 2 (2015)\\n\\n\\n\\n\\n\\nGoogle Chromecast merupakan aksesori canggih untuk mengubah TV Anda menjadi lebih cerdas. Dengan Google Chromecast, TV Anda bisa mengakses internet, memutar video, musik bahkan bermain game. Cukup siapkan TV dengan port HDMI, koneksi WiFi dan smartphone/tablet Android atau iOS dan Anda pun siap menikmati konten multimedia yang ada, langsung di layar TV.\\n\\n\\n\\n\\n\\nUnlimited Entertainment\\n\\nDengan Google Chromecast, Anda memiliki akses ke banyak konten hiburan dan multimedia seperti acara TV, film, lagu, radio, siaran olahraga, dan juga permainan. Anda pun jadi bisa menikmati konten tersebut dengan lebih nyaman di layar TV Anda, tak lagi terbatas oleh layar smartphone atau tablet yang kecil. Yang terpenting, Anda bisa meneruskan kegiatan Anda di smartphone/tablet dan tayangan di TV tidak terganggu ataupun sebaliknya.\\n\\n\\nMake Your TV Smarter\\n\\nJangan terburu-buru mengganti TV lama Anda dengan model terbaru. Dengan Google Chromecast, Anda serasa memiliki Smart TV berkat kemampuan cerdas dan beragam yang dimiliki. Smartphone/tablet Anda seakan berubah menjadi remote TV dan Anda pun bisa melakukan banyak hal baru seperti membuka halaman web, streaming video, musik, hingga mirror atau menampilkan apa yang ada pada layar smartphone/tablet Anda di layar TV.\\n \\n\\n\\n\\nDetail\\n\\n- Output: HDMI, CEC (Consumer Electronics Control)\\n- Video Resolution Max: 1080p\\n- Dimensi: 5,19 x 5,19 x 1,35 cm\\n- Berat: 39,1 gram\\n- Panjang kabel: 1,75 m\\n- Port: HDMI, microUSB\\n- Konektivitas: WiFi 802.11 b/g/n/ac (2.4GHz/5GHz)\\n- Support: Android 4,1+, iOS 7+, Windows 7+, Mac OS 10,7+, Chrome OS 28+\\n\\n\\n\\n\\n\\n\\n\\n\\n\\n\\n\\n\\n\\n\\n\\n\\n\\n\\n\\nPenilaian produk\\n\\n\\n\\n\\n\\n\\n\\n\\nRespon\\nTingkat-bintang\\nPembeli\\n\\n\\n\\n\\n\\n\\n\\n\\n\\n\\n\\n\\n\\n\\nPertanyaan\\n\\n\\n\\n\\n\\n                                                Diskusi Produk\\n                                            \\n\\n\\n                                                Stok\\n                                            \\n\\n\\n                                                Garansi\\n                                            \\n\\n\\n                                                Lainnya\\n                                            \\n\\n\\n\\n\\n\\n\\nTerkait PENGIRIMAN dan\\n                                PEMBAYARAN (termasuk CICILAN),\\n                                silahkan menghubungi layanan pelanggan kami di\\n                                1500-618,\\n                                Live Chat, atau\\n                                cs@jd.id\\n                                . Jam layanan kami mulai dari pukul 8:00-21:00,senin - jum\\'at.\\n                            \\n\\n\\n\\n!\\n\\n\\n\\nWarm prompt\\nBerikut ini adalah pertanyaan dari user lain, namun jika Anda ingin bertanya tentang produk ini, Silahkan tinggalkan pesan di kolom diskusi dibawah, kami akan merespon secepatnya!\\n\\n\\nPenjelasan\\nProduk specifikasi, stok, dan lainnya bisa ditanyakan di bagian ini, dan akan kami carikan orang yang tepat untuk menjawab dan kami janjikan bahwa jawaban dari kami adalah yang paling benar. Namun tentang pembayaran dan pengiriman, mohon kontak layanan pelanggan kami di 1500-618 atau cs@jd.id. Jam konsultasi kami adalah hari senin - jumat dari pukul 8:00 - 21:00. Mohon ditunggu untuk jawaban anda!\\n\\n\\n\\n\\n\\n\\nPost Pertanyaan\\n\\n\\n\\n\\n\\n\\n\\n\\nSemua ( 0 )\\n                                \\n\\n\\n\\nSemua\\nDiskusi Produk\\nStok\\nGaransi\\nLainnya\\n\\n\\n\\n\\n\\n\\n\\n\\n\\n\\n\\n\\n\\n\\n\\nProduk yang terakhir dilihat\\n\\n\\n\\n\\n ', '\\nSmart & Gaming\\n                 \\xa0\\xa0>\\xa0\\xa0\\n                                  Smart Device\\n                                                      \\xa0\\xa0>\\xa0\\xa0\\n                                  Smart Home\\n', '\\n\\n\\n\\n\\n\\n\\n\\n\\n\\n\\n\\n\\n\\n\\n\\n\\n\\n\\n\\n\\n\\n\\n\\n\\n\\n\\n\\n\\n\\n\\n\\n\\n\\nHalaman sebelumnya\\nHalaman selanjutnya\\n\\n\\n\\n\\nShare :\\n        \\n\\n\\n\\n \\n\\n\\n\\n\\nGoogle Chromecast 2 2015 HDMI Streaming Media Player - Black - Toko Edition\\n\\n\\n\\n\\n\\n\\n\\n Respon Pelanggan        \\n\\n\\n\\n\\n\\nHarga:\\n\\n\\n\\n\\n\\nHarga Awal:\\n\\n\\n\\nPaket:\\n\\n\\n\\nKupon:\\n\\n\\n\\nPromosi:\\n\\n\\n\\n\\n\\n\\nCicilan:\\n\\n\\n                {if enabled}\\n                    {if installment.rate == 0}\\n                        Cicilan 0% mulai dari                    {else}\\n                        Cicilan ringan mulai dari                    {/if}\\n                    <span class=\"price\">Rp ${installment.price}</span> / bulan                    <select class=\"installment-divide\">\\n                        {for divideMonth in installment.supplyDivideMonths}\\n                        <option value=\"${divideMonth}\" {if installment.divide == divideMonth} selected {/if}>${divideMonth}</option>\\n                        {/for}\\n                    </select>\\n                    <span class=\"banks\">\\n                        <span class=\"num\">${installment.supplyBanks.length} Bank</span>\\n                        <span class=\"banks-dpl\">\\n                            <span class=\"banks-imgs\">\\n                                {for bank in installment.supplyBanks}\\n                                <img src=\"${bank.pcLogoUrl}\" alt=\"${bank.bankFullName}\"/>\\n                                {/for}\\n                            </span>\\n                            <span class=\"arrow\"><i></i></span>\\n                        </span>\\n                    </span>\\n                {else}\\n                    Saldo terlalu kecil, sementara tidak mendukung angsuran.                {/if}\\n            \\n\\n\\n\\nDikirim ke:\\n\\n\\n\\n\\n\\n\\n\\n\\n\\n\\n\\n\\n\\n\\n\\n\\n\\n\\n\\n\\n\\n\\n\\n\\n\\n\\n\\n\\n\\n\\n\\n\\n\\n\\n\\n\\n\\n\\n\\n\\n\\n\\n\\n\\n\\n\\n\\n\\n\\n\\n\\n\\n\\n\\nPengiriman:\\n\\n\\n\\n\\n\\n\\n\\n\\n                ssa = [{\"onlyNum\":0,\"rfid\":\"\",\"skuId\":10044059}];\\n                                    sst = 0;\\n                            \\n\\n\\n\\n\\n\\n\\n\\n\\n\\n\\n\\n\\n\\n\\n\\n\\n\\n\\n\\n\\n\\n\\n\\n\\n\\n\\n\\nPembayaran :\\n\\n\\n\\n\\n\\n\\n\\n\\n\\n\\n\\n\\nKebijakan Pengembalian :\\nJika barang yang dikirim tidak sesuai dengan deskripsi atau kualitasnya buruk, anda dapat mengembalikan barang tersebut kepada kami dan kami akan mengembalikan uang anda sepenuhnya.\\n\\n\\n\\n\\n\\n\\n\\n\\nNama toko:\\n\\nM2 Store SM\\n\\n\\n\\n\\n ', '\\n\\n\\n\\n\\n\\n\\n\\n\\n\\n\\n\\n\\n\\n\\n\\n\\n\\n\\n\\n\\n\\n\\n\\n\\n\\n\\n\\n\\n\\n\\n\\nHalaman sebelumnya\\nHalaman selanjutnya\\n\\n\\n\\n\\nShare :\\n        \\n\\n\\n\\n', '', '\\n\\n\\n\\n\\n\\n\\n\\n\\n\\n\\n\\n\\n\\n\\n\\n\\n\\n\\n\\n\\n\\n\\n\\n\\n\\n\\n\\n\\n\\nHalaman sebelumnya\\nHalaman selanjutnya\\n\\n\\n', '\\n\\n\\n\\n', '\\n\\n\\n\\n\\n\\n\\n\\n\\n\\n\\n\\n\\n\\n\\n\\n\\n\\n\\n\\n\\n\\n\\n\\nHalaman sebelumnya\\nHalaman selanjutnya\\n\\n', '\\n\\n\\n\\n\\n\\n\\n\\n\\n\\n\\n\\n\\n\\n\\n\\n\\n\\n\\n\\n\\n', '\\nHalaman sebelumnya\\nHalaman selanjutnya\\n', '\\nShare :\\n        \\n\\n\\n\\n', 'Share :\\n        \\n\\n', '', '\\n\\n\\nGoogle Chromecast 2 2015 HDMI Streaming Media Player - Black - Toko Edition\\n\\n\\n\\n\\n\\n\\n\\n Respon Pelanggan        \\n\\n\\n\\n\\n\\nHarga:\\n\\n\\n\\n\\n\\nHarga Awal:\\n\\n\\n\\nPaket:\\n\\n\\n\\nKupon:\\n\\n\\n\\nPromosi:\\n\\n\\n\\n\\n\\n\\nCicilan:\\n\\n\\n                {if enabled}\\n                    {if installment.rate == 0}\\n                        Cicilan 0% mulai dari                    {else}\\n                        Cicilan ringan mulai dari                    {/if}\\n                    <span class=\"price\">Rp ${installment.price}</span> / bulan                    <select class=\"installment-divide\">\\n                        {for divideMonth in installment.supplyDivideMonths}\\n                        <option value=\"${divideMonth}\" {if installment.divide == divideMonth} selected {/if}>${divideMonth}</option>\\n                        {/for}\\n                    </select>\\n                    <span class=\"banks\">\\n                        <span class=\"num\">${installment.supplyBanks.length} Bank</span>\\n                        <span class=\"banks-dpl\">\\n                            <span class=\"banks-imgs\">\\n                                {for bank in installment.supplyBanks}\\n                                <img src=\"${bank.pcLogoUrl}\" alt=\"${bank.bankFullName}\"/>\\n                                {/for}\\n                            </span>\\n                            <span class=\"arrow\"><i></i></span>\\n                        </span>\\n                    </span>\\n                {else}\\n                    Saldo terlalu kecil, sementara tidak mendukung angsuran.                {/if}\\n            \\n\\n\\n\\nDikirim ke:\\n\\n\\n\\n\\n\\n\\n\\n\\n\\n\\n\\n\\n\\n\\n\\n\\n\\n\\n\\n\\n\\n\\n\\n\\n\\n\\n\\n\\n\\n\\n\\n\\n\\n\\n\\n\\n\\n\\n\\n\\n\\n\\n\\n\\n\\n\\n\\n\\n\\n\\n\\n\\n\\n\\nPengiriman:\\n\\n\\n\\n\\n\\n\\n\\n\\n                ssa = [{\"onlyNum\":0,\"rfid\":\"\",\"skuId\":10044059}];\\n                                    sst = 0;\\n                            \\n\\n\\n\\n\\n\\n\\n\\n\\n\\n\\n\\n\\n\\n\\n\\n\\n\\n\\n\\n\\n\\n\\n\\n\\n\\n\\n\\nPembayaran :\\n\\n\\n\\n\\n\\n\\n\\n\\n\\n\\n\\n\\nKebijakan Pengembalian :\\nJika barang yang dikirim tidak sesuai dengan deskripsi atau kualitasnya buruk, anda dapat mengembalikan barang tersebut kepada kami dan kami akan mengembalikan uang anda sepenuhnya.\\n\\n\\n\\n\\n\\n\\n\\n\\nNama toko:\\n\\nM2 Store SM\\n\\n\\n\\n\\n', '\\n\\n', '\\n\\n Respon Pelanggan        \\n', '\\n\\n\\nHarga:\\n\\n\\n\\n\\n\\nHarga Awal:\\n\\n\\n\\nPaket:\\n\\n\\n\\nKupon:\\n\\n\\n\\nPromosi:\\n\\n\\n\\n\\n\\n\\nCicilan:\\n\\n\\n                {if enabled}\\n                    {if installment.rate == 0}\\n                        Cicilan 0% mulai dari                    {else}\\n                        Cicilan ringan mulai dari                    {/if}\\n                    <span class=\"price\">Rp ${installment.price}</span> / bulan                    <select class=\"installment-divide\">\\n                        {for divideMonth in installment.supplyDivideMonths}\\n                        <option value=\"${divideMonth}\" {if installment.divide == divideMonth} selected {/if}>${divideMonth}</option>\\n                        {/for}\\n                    </select>\\n                    <span class=\"banks\">\\n                        <span class=\"num\">${installment.supplyBanks.length} Bank</span>\\n                        <span class=\"banks-dpl\">\\n                            <span class=\"banks-imgs\">\\n                                {for bank in installment.supplyBanks}\\n                                <img src=\"${bank.pcLogoUrl}\" alt=\"${bank.bankFullName}\"/>\\n                                {/for}\\n                            </span>\\n                            <span class=\"arrow\"><i></i></span>\\n                        </span>\\n                    </span>\\n                {else}\\n                    Saldo terlalu kecil, sementara tidak mendukung angsuran.                {/if}\\n            \\n\\n\\n\\nDikirim ke:\\n\\n\\n\\n\\n\\n\\n\\n\\n\\n\\n\\n\\n\\n\\n\\n\\n\\n\\n\\n\\n\\n\\n\\n\\n\\n\\n\\n\\n\\n\\n\\n\\n\\n\\n\\n\\n\\n\\n\\n\\n\\n\\n\\n\\n\\n\\n\\n\\n\\n\\n\\n\\n\\n\\nPengiriman:\\n\\n\\n\\n\\n\\n\\n\\n\\n                ssa = [{\"onlyNum\":0,\"rfid\":\"\",\"skuId\":10044059}];\\n                                    sst = 0;\\n                            \\n\\n\\n\\n\\n\\n\\n\\n\\n\\n\\n\\n\\n\\n\\n\\n\\n\\n\\n\\n\\n\\n\\n\\n\\n\\n\\n\\nPembayaran :\\n\\n\\n\\n\\n\\n\\n\\n\\n\\n\\n\\n\\nKebijakan Pengembalian :\\nJika barang yang dikirim tidak sesuai dengan deskripsi atau kualitasnya buruk, anda dapat mengembalikan barang tersebut kepada kami dan kami akan mengembalikan uang anda sepenuhnya.\\n\\n\\n\\n', '\\n\\nHarga:\\n\\n\\n\\n\\n\\nHarga Awal:\\n\\n\\n\\nPaket:\\n\\n\\n\\nKupon:\\n\\n\\n\\nPromosi:\\n\\n\\n', '\\nHarga:\\n\\n\\n\\n', 'Harga:', '\\n\\n', '\\nHarga Awal:\\n\\n', 'Harga Awal:', '', '\\nPaket:\\n\\n', 'Paket:', '', '\\nKupon:\\n\\n', 'Kupon:', '', '\\nPromosi:\\n\\n', 'Promosi:', '', '\\n\\n\\nCicilan:\\n\\n\\n                {if enabled}\\n                    {if installment.rate == 0}\\n                        Cicilan 0% mulai dari                    {else}\\n                        Cicilan ringan mulai dari                    {/if}\\n                    <span class=\"price\">Rp ${installment.price}</span> / bulan                    <select class=\"installment-divide\">\\n                        {for divideMonth in installment.supplyDivideMonths}\\n                        <option value=\"${divideMonth}\" {if installment.divide == divideMonth} selected {/if}>${divideMonth}</option>\\n                        {/for}\\n                    </select>\\n                    <span class=\"banks\">\\n                        <span class=\"num\">${installment.supplyBanks.length} Bank</span>\\n                        <span class=\"banks-dpl\">\\n                            <span class=\"banks-imgs\">\\n                                {for bank in installment.supplyBanks}\\n                                <img src=\"${bank.pcLogoUrl}\" alt=\"${bank.bankFullName}\"/>\\n                                {/for}\\n                            </span>\\n                            <span class=\"arrow\"><i></i></span>\\n                        </span>\\n                    </span>\\n                {else}\\n                    Saldo terlalu kecil, sementara tidak mendukung angsuran.                {/if}\\n            \\n\\n\\n\\nDikirim ke:\\n\\n\\n\\n\\n\\n\\n\\n\\n\\n\\n\\n\\n\\n\\n\\n\\n\\n\\n\\n\\n\\n\\n\\n\\n\\n\\n\\n\\n\\n\\n\\n\\n\\n\\n\\n\\n\\n\\n\\n\\n\\n\\n\\n\\n\\n\\n\\n\\n\\n\\n\\n\\n\\n\\nPengiriman:\\n\\n\\n\\n\\n\\n\\n\\n\\n                ssa = [{\"onlyNum\":0,\"rfid\":\"\",\"skuId\":10044059}];\\n                                    sst = 0;\\n                            \\n\\n\\n\\n\\n\\n\\n\\n\\n\\n\\n\\n\\n\\n\\n\\n\\n\\n\\n\\n\\n\\n\\n\\n\\n\\n\\n\\nPembayaran :\\n\\n\\n\\n\\n\\n\\n\\n\\n\\n\\n\\n\\nKebijakan Pengembalian :\\nJika barang yang dikirim tidak sesuai dengan deskripsi atau kualitasnya buruk, anda dapat mengembalikan barang tersebut kepada kami dan kami akan mengembalikan uang anda sepenuhnya.\\n\\n\\n', '\\nCicilan:\\n\\n\\n                {if enabled}\\n                    {if installment.rate == 0}\\n                        Cicilan 0% mulai dari                    {else}\\n                        Cicilan ringan mulai dari                    {/if}\\n                    <span class=\"price\">Rp ${installment.price}</span> / bulan                    <select class=\"installment-divide\">\\n                        {for divideMonth in installment.supplyDivideMonths}\\n                        <option value=\"${divideMonth}\" {if installment.divide == divideMonth} selected {/if}>${divideMonth}</option>\\n                        {/for}\\n                    </select>\\n                    <span class=\"banks\">\\n                        <span class=\"num\">${installment.supplyBanks.length} Bank</span>\\n                        <span class=\"banks-dpl\">\\n                            <span class=\"banks-imgs\">\\n                                {for bank in installment.supplyBanks}\\n                                <img src=\"${bank.pcLogoUrl}\" alt=\"${bank.bankFullName}\"/>\\n                                {/for}\\n                            </span>\\n                            <span class=\"arrow\"><i></i></span>\\n                        </span>\\n                    </span>\\n                {else}\\n                    Saldo terlalu kecil, sementara tidak mendukung angsuran.                {/if}\\n            \\n', 'Cicilan:', '', '\\nDikirim ke:\\n\\n\\n\\n\\n\\n\\n\\n\\n\\n\\n\\n\\n\\n\\n\\n\\n\\n\\n\\n\\n\\n\\n\\n\\n\\n\\n\\n\\n\\n\\n\\n\\n\\n\\n\\n\\n\\n\\n\\n\\n\\n\\n\\n\\n\\n\\n\\n\\n\\n\\n\\n', 'Dikirim ke:', '\\n\\n\\n\\n\\n\\n\\n\\n\\n\\n\\n\\n\\n\\n\\n\\n\\n\\n\\n\\n\\n\\n\\n\\n\\n\\n\\n\\n\\n\\n\\n\\n\\n\\n\\n\\n\\n\\n\\n\\n\\n\\n\\n\\n\\n\\n\\n\\n\\n', '\\n\\n\\n\\n\\n\\n\\n\\n\\n\\n\\n\\n\\n\\n\\n\\n\\n\\n\\n\\n\\n\\n\\n\\n\\n\\n\\n\\n\\n\\n\\n\\n\\n\\n\\n\\n\\n\\n\\n\\n\\n\\n\\n\\n\\n\\n', '\\n\\n\\n', '\\n\\n\\n\\n\\n\\n\\n\\n\\n\\n\\n\\n\\n\\n\\n\\n\\n\\n\\n\\n\\n\\n\\n\\n\\n\\n\\n\\n\\n\\n\\n\\n\\n\\n\\n\\n\\n\\n\\n\\n', '\\n\\n\\n\\n\\n\\n\\n\\n\\n\\n\\n\\n\\n\\n\\n\\n\\n\\n\\n\\n\\n\\n\\n\\n\\n\\n\\n\\n\\n\\n\\n\\n\\n\\n\\n\\n\\n\\n', '\\n\\n\\n\\n\\n\\n\\n\\n\\n\\n\\n\\n\\n\\n\\n\\n\\n\\n\\n\\n\\n', '\\n\\n\\n\\n', '\\n\\n\\n\\n', '\\n\\n\\n\\n', '', '', '\\nPengiriman:\\n\\n\\n\\n', 'Pengiriman:', '\\n\\n', '\\n\\n\\n\\n\\n\\n\\n\\n\\n\\n\\n\\n\\n\\n\\n\\n\\n\\n\\n\\n\\n\\n', '\\n\\n\\n\\n\\n\\n', '\\n\\n\\n\\n', '\\n\\n\\n\\n\\n\\n\\n\\n\\n\\n\\n\\n', '\\n\\n\\n\\n\\n\\n\\n', '\\n\\n', '\\n\\n', '\\n\\n', '\\nPembayaran :\\n\\n\\n\\n\\n\\n\\n\\n\\n\\n\\n', 'Pembayaran :', '\\n\\n\\n\\n\\n\\n\\n\\n\\n', '\\nKebijakan Pengembalian :\\nJika barang yang dikirim tidak sesuai dengan deskripsi atau kualitasnya buruk, anda dapat mengembalikan barang tersebut kepada kami dan kami akan mengembalikan uang anda sepenuhnya.\\n', 'Kebijakan Pengembalian :', 'Jika barang yang dikirim tidak sesuai dengan deskripsi atau kualitasnya buruk, anda dapat mengembalikan barang tersebut kepada kami dan kami akan mengembalikan uang anda sepenuhnya.', '\\n\\n\\nNama toko:\\n\\nM2 Store SM\\n\\n\\n\\n', '\\n\\nNama toko:\\n\\nM2 Store SM\\n\\n\\n', '\\nNama toko:\\n\\nM2 Store SM\\n\\n', '\\n\\nRekomendasi Kami\\nPromo Paketan\\n\\n\\n\\n\\n\\n\\n                <ul class=\"bd\">\\n                    {for recomWare in recommend}\\n                    {if recomWare_index < 7}\\n                    <li>\\n                        <div class=\"p-img\"><a href=\"/product/seoName_${recomWare.spuId}.html\" target=\"_blank\"><img src=\"//img20.jd.id/Indonesia/s160x160_/${recomWare.imgUri}\" alt=\"\"></a></div>\\n                        <div class=\"p-name\">\\n                            <a href=\"/product/seoName_${recomWare.spuId}.html\" title=\"${recomWare.spuName}\">${recomWare.spuName}</a>\\n                        </div>\\n                        <div class=\"p-price\"><strong ept=\"price\" J_wareId=\"${recomWare.spuId}\"></strong>\\n                        </div>\\n                    </li>\\n                    {/if}\\n                    {/for}\\n                </ul>\\n            \\n\\n\\n\\n\\n\\n', '\\nRekomendasi Kami\\nPromo Paketan\\n', '\\n\\n\\n\\n\\n                <ul class=\"bd\">\\n                    {for recomWare in recommend}\\n                    {if recomWare_index < 7}\\n                    <li>\\n                        <div class=\"p-img\"><a href=\"/product/seoName_${recomWare.spuId}.html\" target=\"_blank\"><img src=\"//img20.jd.id/Indonesia/s160x160_/${recomWare.imgUri}\" alt=\"\"></a></div>\\n                        <div class=\"p-name\">\\n                            <a href=\"/product/seoName_${recomWare.spuId}.html\" title=\"${recomWare.spuName}\">${recomWare.spuName}</a>\\n                        </div>\\n                        <div class=\"p-price\"><strong ept=\"price\" J_wareId=\"${recomWare.spuId}\"></strong>\\n                        </div>\\n                    </li>\\n                    {/if}\\n                    {/for}\\n                </ul>\\n            \\n\\n\\n\\n\\n', '\\n\\n\\n                <ul class=\"bd\">\\n                    {for recomWare in recommend}\\n                    {if recomWare_index < 7}\\n                    <li>\\n                        <div class=\"p-img\"><a href=\"/product/seoName_${recomWare.spuId}.html\" target=\"_blank\"><img src=\"//img20.jd.id/Indonesia/s160x160_/${recomWare.imgUri}\" alt=\"\"></a></div>\\n                        <div class=\"p-name\">\\n                            <a href=\"/product/seoName_${recomWare.spuId}.html\" title=\"${recomWare.spuName}\">${recomWare.spuName}</a>\\n                        </div>\\n                        <div class=\"p-price\"><strong ept=\"price\" J_wareId=\"${recomWare.spuId}\"></strong>\\n                        </div>\\n                    </li>\\n                    {/if}\\n                    {/for}\\n                </ul>\\n            \\n', '', '\\n', \"\\n\\nTentang Produk\\nSpesifikasi\\nReview Pelanggan\\nPertanyaan\\n\\n\\n\\n\\n\\n\\nDeskripsi Produk                                                Of Google Chromecast 2 2015 HDMI Streaming Media Player - Black - Toko Edition\\n                                            \\n\\n\\n\\nGOOGLE Chromecast 2 (2015)\\n\\n\\n\\n\\n\\nGoogle Chromecast merupakan aksesori canggih untuk mengubah TV Anda menjadi lebih cerdas. Dengan Google Chromecast, TV Anda bisa mengakses internet, memutar video, musik bahkan bermain game. Cukup siapkan TV dengan port HDMI, koneksi WiFi dan smartphone/tablet Android atau iOS dan Anda pun siap menikmati konten multimedia yang ada, langsung di layar TV.\\n\\n\\n\\n\\n\\nUnlimited Entertainment\\n\\nDengan Google Chromecast, Anda memiliki akses ke banyak konten hiburan dan multimedia seperti acara TV, film, lagu, radio, siaran olahraga, dan juga permainan. Anda pun jadi bisa menikmati konten tersebut dengan lebih nyaman di layar TV Anda, tak lagi terbatas oleh layar smartphone atau tablet yang kecil. Yang terpenting, Anda bisa meneruskan kegiatan Anda di smartphone/tablet dan tayangan di TV tidak terganggu ataupun sebaliknya.\\n\\n\\nMake Your TV Smarter\\n\\nJangan terburu-buru mengganti TV lama Anda dengan model terbaru. Dengan Google Chromecast, Anda serasa memiliki Smart TV berkat kemampuan cerdas dan beragam yang dimiliki. Smartphone/tablet Anda seakan berubah menjadi remote TV dan Anda pun bisa melakukan banyak hal baru seperti membuka halaman web, streaming video, musik, hingga mirror atau menampilkan apa yang ada pada layar smartphone/tablet Anda di layar TV.\\n \\n\\n\\n\\nDetail\\n\\n- Output: HDMI, CEC (Consumer Electronics Control)\\n- Video Resolution Max: 1080p\\n- Dimensi: 5,19 x 5,19 x 1,35 cm\\n- Berat: 39,1 gram\\n- Panjang kabel: 1,75 m\\n- Port: HDMI, microUSB\\n- Konektivitas: WiFi 802.11 b/g/n/ac (2.4GHz/5GHz)\\n- Support: Android 4,1+, iOS 7+, Windows 7+, Mac OS 10,7+, Chrome OS 28+\\n\\n\\n\\n\\n\\n\\n\\n\\n\\n\\n\\n\\n\\n\\n\\n\\n\\n\\n\\nPenilaian produk\\n\\n\\n\\n\\n\\n\\n\\n\\nRespon\\nTingkat-bintang\\nPembeli\\n\\n\\n\\n\\n\\n\\n\\n\\n\\n\\n\\n\\n\\n\\nPertanyaan\\n\\n\\n\\n\\n\\n                                                Diskusi Produk\\n                                            \\n\\n\\n                                                Stok\\n                                            \\n\\n\\n                                                Garansi\\n                                            \\n\\n\\n                                                Lainnya\\n                                            \\n\\n\\n\\n\\n\\n\\nTerkait PENGIRIMAN dan\\n                                PEMBAYARAN (termasuk CICILAN),\\n                                silahkan menghubungi layanan pelanggan kami di\\n                                1500-618,\\n                                Live Chat, atau\\n                                cs@jd.id\\n                                . Jam layanan kami mulai dari pukul 8:00-21:00,senin - jum'at.\\n                            \\n\\n\\n\\n!\\n\\n\\n\\nWarm prompt\\nBerikut ini adalah pertanyaan dari user lain, namun jika Anda ingin bertanya tentang produk ini, Silahkan tinggalkan pesan di kolom diskusi dibawah, kami akan merespon secepatnya!\\n\\n\\nPenjelasan\\nProduk specifikasi, stok, dan lainnya bisa ditanyakan di bagian ini, dan akan kami carikan orang yang tepat untuk menjawab dan kami janjikan bahwa jawaban dari kami adalah yang paling benar. Namun tentang pembayaran dan pengiriman, mohon kontak layanan pelanggan kami di 1500-618 atau cs@jd.id. Jam konsultasi kami adalah hari senin - jumat dari pukul 8:00 - 21:00. Mohon ditunggu untuk jawaban anda!\\n\\n\\n\\n\\n\\n\\nPost Pertanyaan\\n\\n\\n\\n\\n\\n\\n\\n\\nSemua ( 0 )\\n                                \\n\\n\\n\\nSemua\\nDiskusi Produk\\nStok\\nGaransi\\nLainnya\\n\\n\\n\\n\\n\\n\\n\\n\\n\\n\\n\\n\\n\\n\", '\\nTentang Produk\\nSpesifikasi\\nReview Pelanggan\\nPertanyaan\\n', \"\\n\\n\\n\\n\\nDeskripsi Produk                                                Of Google Chromecast 2 2015 HDMI Streaming Media Player - Black - Toko Edition\\n                                            \\n\\n\\n\\nGOOGLE Chromecast 2 (2015)\\n\\n\\n\\n\\n\\nGoogle Chromecast merupakan aksesori canggih untuk mengubah TV Anda menjadi lebih cerdas. Dengan Google Chromecast, TV Anda bisa mengakses internet, memutar video, musik bahkan bermain game. Cukup siapkan TV dengan port HDMI, koneksi WiFi dan smartphone/tablet Android atau iOS dan Anda pun siap menikmati konten multimedia yang ada, langsung di layar TV.\\n\\n\\n\\n\\n\\nUnlimited Entertainment\\n\\nDengan Google Chromecast, Anda memiliki akses ke banyak konten hiburan dan multimedia seperti acara TV, film, lagu, radio, siaran olahraga, dan juga permainan. Anda pun jadi bisa menikmati konten tersebut dengan lebih nyaman di layar TV Anda, tak lagi terbatas oleh layar smartphone atau tablet yang kecil. Yang terpenting, Anda bisa meneruskan kegiatan Anda di smartphone/tablet dan tayangan di TV tidak terganggu ataupun sebaliknya.\\n\\n\\nMake Your TV Smarter\\n\\nJangan terburu-buru mengganti TV lama Anda dengan model terbaru. Dengan Google Chromecast, Anda serasa memiliki Smart TV berkat kemampuan cerdas dan beragam yang dimiliki. Smartphone/tablet Anda seakan berubah menjadi remote TV dan Anda pun bisa melakukan banyak hal baru seperti membuka halaman web, streaming video, musik, hingga mirror atau menampilkan apa yang ada pada layar smartphone/tablet Anda di layar TV.\\n \\n\\n\\n\\nDetail\\n\\n- Output: HDMI, CEC (Consumer Electronics Control)\\n- Video Resolution Max: 1080p\\n- Dimensi: 5,19 x 5,19 x 1,35 cm\\n- Berat: 39,1 gram\\n- Panjang kabel: 1,75 m\\n- Port: HDMI, microUSB\\n- Konektivitas: WiFi 802.11 b/g/n/ac (2.4GHz/5GHz)\\n- Support: Android 4,1+, iOS 7+, Windows 7+, Mac OS 10,7+, Chrome OS 28+\\n\\n\\n\\n\\n\\n\\n\\n\\n\\n\\n\\n\\n\\n\\n\\n\\n\\n\\n\\nPenilaian produk\\n\\n\\n\\n\\n\\n\\n\\n\\nRespon\\nTingkat-bintang\\nPembeli\\n\\n\\n\\n\\n\\n\\n\\n\\n\\n\\n\\n\\n\\n\\nPertanyaan\\n\\n\\n\\n\\n\\n                                                Diskusi Produk\\n                                            \\n\\n\\n                                                Stok\\n                                            \\n\\n\\n                                                Garansi\\n                                            \\n\\n\\n                                                Lainnya\\n                                            \\n\\n\\n\\n\\n\\n\\nTerkait PENGIRIMAN dan\\n                                PEMBAYARAN (termasuk CICILAN),\\n                                silahkan menghubungi layanan pelanggan kami di\\n                                1500-618,\\n                                Live Chat, atau\\n                                cs@jd.id\\n                                . Jam layanan kami mulai dari pukul 8:00-21:00,senin - jum'at.\\n                            \\n\\n\\n\\n!\\n\\n\\n\\nWarm prompt\\nBerikut ini adalah pertanyaan dari user lain, namun jika Anda ingin bertanya tentang produk ini, Silahkan tinggalkan pesan di kolom diskusi dibawah, kami akan merespon secepatnya!\\n\\n\\nPenjelasan\\nProduk specifikasi, stok, dan lainnya bisa ditanyakan di bagian ini, dan akan kami carikan orang yang tepat untuk menjawab dan kami janjikan bahwa jawaban dari kami adalah yang paling benar. Namun tentang pembayaran dan pengiriman, mohon kontak layanan pelanggan kami di 1500-618 atau cs@jd.id. Jam konsultasi kami adalah hari senin - jumat dari pukul 8:00 - 21:00. Mohon ditunggu untuk jawaban anda!\\n\\n\\n\\n\\n\\n\\nPost Pertanyaan\\n\\n\\n\\n\\n\\n\\n\\n\\nSemua ( 0 )\\n                                \\n\\n\\n\\nSemua\\nDiskusi Produk\\nStok\\nGaransi\\nLainnya\\n\\n\\n\\n\\n\\n\\n\\n\\n\\n\\n\\n\\n\", '\\n\\n\\nDeskripsi Produk                                                Of Google Chromecast 2 2015 HDMI Streaming Media Player - Black - Toko Edition\\n                                            \\n\\n\\n\\nGOOGLE Chromecast 2 (2015)\\n\\n\\n\\n\\n\\nGoogle Chromecast merupakan aksesori canggih untuk mengubah TV Anda menjadi lebih cerdas. Dengan Google Chromecast, TV Anda bisa mengakses internet, memutar video, musik bahkan bermain game. Cukup siapkan TV dengan port HDMI, koneksi WiFi dan smartphone/tablet Android atau iOS dan Anda pun siap menikmati konten multimedia yang ada, langsung di layar TV.\\n\\n\\n\\n\\n\\nUnlimited Entertainment\\n\\nDengan Google Chromecast, Anda memiliki akses ke banyak konten hiburan dan multimedia seperti acara TV, film, lagu, radio, siaran olahraga, dan juga permainan. Anda pun jadi bisa menikmati konten tersebut dengan lebih nyaman di layar TV Anda, tak lagi terbatas oleh layar smartphone atau tablet yang kecil. Yang terpenting, Anda bisa meneruskan kegiatan Anda di smartphone/tablet dan tayangan di TV tidak terganggu ataupun sebaliknya.\\n\\n\\nMake Your TV Smarter\\n\\nJangan terburu-buru mengganti TV lama Anda dengan model terbaru. Dengan Google Chromecast, Anda serasa memiliki Smart TV berkat kemampuan cerdas dan beragam yang dimiliki. Smartphone/tablet Anda seakan berubah menjadi remote TV dan Anda pun bisa melakukan banyak hal baru seperti membuka halaman web, streaming video, musik, hingga mirror atau menampilkan apa yang ada pada layar smartphone/tablet Anda di layar TV.\\n \\n\\n\\n\\nDetail\\n\\n- Output: HDMI, CEC (Consumer Electronics Control)\\n- Video Resolution Max: 1080p\\n- Dimensi: 5,19 x 5,19 x 1,35 cm\\n- Berat: 39,1 gram\\n- Panjang kabel: 1,75 m\\n- Port: HDMI, microUSB\\n- Konektivitas: WiFi 802.11 b/g/n/ac (2.4GHz/5GHz)\\n- Support: Android 4,1+, iOS 7+, Windows 7+, Mac OS 10,7+, Chrome OS 28+\\n\\n\\n\\n\\n', '\\n\\nDeskripsi Produk                                                Of Google Chromecast 2 2015 HDMI Streaming Media Player - Black - Toko Edition\\n                                            \\n\\n\\n\\nGOOGLE Chromecast 2 (2015)\\n\\n\\n\\n\\n\\nGoogle Chromecast merupakan aksesori canggih untuk mengubah TV Anda menjadi lebih cerdas. Dengan Google Chromecast, TV Anda bisa mengakses internet, memutar video, musik bahkan bermain game. Cukup siapkan TV dengan port HDMI, koneksi WiFi dan smartphone/tablet Android atau iOS dan Anda pun siap menikmati konten multimedia yang ada, langsung di layar TV.\\n\\n\\n\\n\\n\\nUnlimited Entertainment\\n\\nDengan Google Chromecast, Anda memiliki akses ke banyak konten hiburan dan multimedia seperti acara TV, film, lagu, radio, siaran olahraga, dan juga permainan. Anda pun jadi bisa menikmati konten tersebut dengan lebih nyaman di layar TV Anda, tak lagi terbatas oleh layar smartphone atau tablet yang kecil. Yang terpenting, Anda bisa meneruskan kegiatan Anda di smartphone/tablet dan tayangan di TV tidak terganggu ataupun sebaliknya.\\n\\n\\nMake Your TV Smarter\\n\\nJangan terburu-buru mengganti TV lama Anda dengan model terbaru. Dengan Google Chromecast, Anda serasa memiliki Smart TV berkat kemampuan cerdas dan beragam yang dimiliki. Smartphone/tablet Anda seakan berubah menjadi remote TV dan Anda pun bisa melakukan banyak hal baru seperti membuka halaman web, streaming video, musik, hingga mirror atau menampilkan apa yang ada pada layar smartphone/tablet Anda di layar TV.\\n \\n\\n\\n\\nDetail\\n\\n- Output: HDMI, CEC (Consumer Electronics Control)\\n- Video Resolution Max: 1080p\\n- Dimensi: 5,19 x 5,19 x 1,35 cm\\n- Berat: 39,1 gram\\n- Panjang kabel: 1,75 m\\n- Port: HDMI, microUSB\\n- Konektivitas: WiFi 802.11 b/g/n/ac (2.4GHz/5GHz)\\n- Support: Android 4,1+, iOS 7+, Windows 7+, Mac OS 10,7+, Chrome OS 28+\\n\\n\\n\\n', '\\nDeskripsi Produk                                                Of Google Chromecast 2 2015 HDMI Streaming Media Player - Black - Toko Edition\\n                                            \\n\\n\\n\\nGOOGLE Chromecast 2 (2015)\\n\\n\\n\\n\\n\\nGoogle Chromecast merupakan aksesori canggih untuk mengubah TV Anda menjadi lebih cerdas. Dengan Google Chromecast, TV Anda bisa mengakses internet, memutar video, musik bahkan bermain game. Cukup siapkan TV dengan port HDMI, koneksi WiFi dan smartphone/tablet Android atau iOS dan Anda pun siap menikmati konten multimedia yang ada, langsung di layar TV.\\n\\n\\n\\n\\n\\nUnlimited Entertainment\\n\\nDengan Google Chromecast, Anda memiliki akses ke banyak konten hiburan dan multimedia seperti acara TV, film, lagu, radio, siaran olahraga, dan juga permainan. Anda pun jadi bisa menikmati konten tersebut dengan lebih nyaman di layar TV Anda, tak lagi terbatas oleh layar smartphone atau tablet yang kecil. Yang terpenting, Anda bisa meneruskan kegiatan Anda di smartphone/tablet dan tayangan di TV tidak terganggu ataupun sebaliknya.\\n\\n\\nMake Your TV Smarter\\n\\nJangan terburu-buru mengganti TV lama Anda dengan model terbaru. Dengan Google Chromecast, Anda serasa memiliki Smart TV berkat kemampuan cerdas dan beragam yang dimiliki. Smartphone/tablet Anda seakan berubah menjadi remote TV dan Anda pun bisa melakukan banyak hal baru seperti membuka halaman web, streaming video, musik, hingga mirror atau menampilkan apa yang ada pada layar smartphone/tablet Anda di layar TV.\\n \\n\\n\\n\\nDetail\\n\\n- Output: HDMI, CEC (Consumer Electronics Control)\\n- Video Resolution Max: 1080p\\n- Dimensi: 5,19 x 5,19 x 1,35 cm\\n- Berat: 39,1 gram\\n- Panjang kabel: 1,75 m\\n- Port: HDMI, microUSB\\n- Konektivitas: WiFi 802.11 b/g/n/ac (2.4GHz/5GHz)\\n- Support: Android 4,1+, iOS 7+, Windows 7+, Mac OS 10,7+, Chrome OS 28+\\n\\n\\n', '\\n\\n\\nGOOGLE Chromecast 2 (2015)\\n\\n\\n\\n\\n\\nGoogle Chromecast merupakan aksesori canggih untuk mengubah TV Anda menjadi lebih cerdas. Dengan Google Chromecast, TV Anda bisa mengakses internet, memutar video, musik bahkan bermain game. Cukup siapkan TV dengan port HDMI, koneksi WiFi dan smartphone/tablet Android atau iOS dan Anda pun siap menikmati konten multimedia yang ada, langsung di layar TV.\\n\\n\\n\\n\\n\\nUnlimited Entertainment\\n\\nDengan Google Chromecast, Anda memiliki akses ke banyak konten hiburan dan multimedia seperti acara TV, film, lagu, radio, siaran olahraga, dan juga permainan. Anda pun jadi bisa menikmati konten tersebut dengan lebih nyaman di layar TV Anda, tak lagi terbatas oleh layar smartphone atau tablet yang kecil. Yang terpenting, Anda bisa meneruskan kegiatan Anda di smartphone/tablet dan tayangan di TV tidak terganggu ataupun sebaliknya.\\n\\n\\nMake Your TV Smarter\\n\\nJangan terburu-buru mengganti TV lama Anda dengan model terbaru. Dengan Google Chromecast, Anda serasa memiliki Smart TV berkat kemampuan cerdas dan beragam yang dimiliki. Smartphone/tablet Anda seakan berubah menjadi remote TV dan Anda pun bisa melakukan banyak hal baru seperti membuka halaman web, streaming video, musik, hingga mirror atau menampilkan apa yang ada pada layar smartphone/tablet Anda di layar TV.\\n \\n\\n\\n\\nDetail\\n\\n- Output: HDMI, CEC (Consumer Electronics Control)\\n- Video Resolution Max: 1080p\\n- Dimensi: 5,19 x 5,19 x 1,35 cm\\n- Berat: 39,1 gram\\n- Panjang kabel: 1,75 m\\n- Port: HDMI, microUSB\\n- Konektivitas: WiFi 802.11 b/g/n/ac (2.4GHz/5GHz)\\n- Support: Android 4,1+, iOS 7+, Windows 7+, Mac OS 10,7+, Chrome OS 28+\\n\\n', '\\n\\n\\n\\n\\n\\n\\n', '\\n\\n\\n\\n\\n', '\\n\\n\\n\\nPenilaian produk\\n\\n\\n\\n\\n\\n\\n\\n\\nRespon\\nTingkat-bintang\\nPembeli\\n\\n\\n\\n\\n\\n\\n\\n\\n\\n\\n', '\\n\\nPenilaian produk\\n\\n\\n\\n\\n\\n', '\\nPenilaian produk\\n', '\\n\\n\\n', '', '', '\\n\\nRespon\\nTingkat-bintang\\nPembeli\\n\\n\\n\\n\\n\\n\\n\\n\\n\\n', '\\nRespon\\nTingkat-bintang\\nPembeli\\n', '\\n\\n\\n\\n\\n\\n\\n', '', '', '\\n\\n\\n', '\\n', \"\\n\\nPertanyaan\\n\\n\\n\\n\\n\\n                                                Diskusi Produk\\n                                            \\n\\n\\n                                                Stok\\n                                            \\n\\n\\n                                                Garansi\\n                                            \\n\\n\\n                                                Lainnya\\n                                            \\n\\n\\n\\n\\n\\n\\nTerkait PENGIRIMAN dan\\n                                PEMBAYARAN (termasuk CICILAN),\\n                                silahkan menghubungi layanan pelanggan kami di\\n                                1500-618,\\n                                Live Chat, atau\\n                                cs@jd.id\\n                                . Jam layanan kami mulai dari pukul 8:00-21:00,senin - jum'at.\\n                            \\n\\n\\n\\n!\\n\\n\\n\\nWarm prompt\\nBerikut ini adalah pertanyaan dari user lain, namun jika Anda ingin bertanya tentang produk ini, Silahkan tinggalkan pesan di kolom diskusi dibawah, kami akan merespon secepatnya!\\n\\n\\nPenjelasan\\nProduk specifikasi, stok, dan lainnya bisa ditanyakan di bagian ini, dan akan kami carikan orang yang tepat untuk menjawab dan kami janjikan bahwa jawaban dari kami adalah yang paling benar. Namun tentang pembayaran dan pengiriman, mohon kontak layanan pelanggan kami di 1500-618 atau cs@jd.id. Jam konsultasi kami adalah hari senin - jumat dari pukul 8:00 - 21:00. Mohon ditunggu untuk jawaban anda!\\n\\n\\n\\n\\n\\n\\nPost Pertanyaan\\n\\n\\n\\n\\n\\n\\n\\n\\nSemua ( 0 )\\n                                \\n\\n\\n\\nSemua\\nDiskusi Produk\\nStok\\nGaransi\\nLainnya\\n\\n\\n\\n\\n\\n\\n\\n\\n\\n\\n\\n\", \"\\nPertanyaan\\n\\n\\n\\n\\n\\n                                                Diskusi Produk\\n                                            \\n\\n\\n                                                Stok\\n                                            \\n\\n\\n                                                Garansi\\n                                            \\n\\n\\n                                                Lainnya\\n                                            \\n\\n\\n\\n\\n\\n\\nTerkait PENGIRIMAN dan\\n                                PEMBAYARAN (termasuk CICILAN),\\n                                silahkan menghubungi layanan pelanggan kami di\\n                                1500-618,\\n                                Live Chat, atau\\n                                cs@jd.id\\n                                . Jam layanan kami mulai dari pukul 8:00-21:00,senin - jum'at.\\n                            \\n\\n\\n\\n!\\n\\n\\n\\nWarm prompt\\nBerikut ini adalah pertanyaan dari user lain, namun jika Anda ingin bertanya tentang produk ini, Silahkan tinggalkan pesan di kolom diskusi dibawah, kami akan merespon secepatnya!\\n\\n\\nPenjelasan\\nProduk specifikasi, stok, dan lainnya bisa ditanyakan di bagian ini, dan akan kami carikan orang yang tepat untuk menjawab dan kami janjikan bahwa jawaban dari kami adalah yang paling benar. Namun tentang pembayaran dan pengiriman, mohon kontak layanan pelanggan kami di 1500-618 atau cs@jd.id. Jam konsultasi kami adalah hari senin - jumat dari pukul 8:00 - 21:00. Mohon ditunggu untuk jawaban anda!\\n\\n\\n\\n\\n\\n\\nPost Pertanyaan\\n\\n\\n\\n\\n\\n\\n\\n\\nSemua ( 0 )\\n                                \\n\\n\\n\\nSemua\\nDiskusi Produk\\nStok\\nGaransi\\nLainnya\\n\\n\\n\\n\\n\\n\\n\\n\\n\\n\\n\", 'Pertanyaan', \"\\n\\n\\n\\n\\n                                                Diskusi Produk\\n                                            \\n\\n\\n                                                Stok\\n                                            \\n\\n\\n                                                Garansi\\n                                            \\n\\n\\n                                                Lainnya\\n                                            \\n\\n\\n\\n\\n\\n\\nTerkait PENGIRIMAN dan\\n                                PEMBAYARAN (termasuk CICILAN),\\n                                silahkan menghubungi layanan pelanggan kami di\\n                                1500-618,\\n                                Live Chat, atau\\n                                cs@jd.id\\n                                . Jam layanan kami mulai dari pukul 8:00-21:00,senin - jum'at.\\n                            \\n\\n\\n\\n!\\n\\n\\n\\nWarm prompt\\nBerikut ini adalah pertanyaan dari user lain, namun jika Anda ingin bertanya tentang produk ini, Silahkan tinggalkan pesan di kolom diskusi dibawah, kami akan merespon secepatnya!\\n\\n\\nPenjelasan\\nProduk specifikasi, stok, dan lainnya bisa ditanyakan di bagian ini, dan akan kami carikan orang yang tepat untuk menjawab dan kami janjikan bahwa jawaban dari kami adalah yang paling benar. Namun tentang pembayaran dan pengiriman, mohon kontak layanan pelanggan kami di 1500-618 atau cs@jd.id. Jam konsultasi kami adalah hari senin - jumat dari pukul 8:00 - 21:00. Mohon ditunggu untuk jawaban anda!\\n\\n\\n\\n\\n\\n\\nPost Pertanyaan\\n\\n\\n\\n\\n\", '\\n\\n\\n\\n                                                Diskusi Produk\\n                                            \\n\\n\\n                                                Stok\\n                                            \\n\\n\\n                                                Garansi\\n                                            \\n\\n\\n                                                Lainnya\\n                                            \\n\\n\\n\\n\\n', '\\n\\n\\n                                                Diskusi Produk\\n                                            \\n\\n\\n                                                Stok\\n                                            \\n\\n\\n                                                Garansi\\n                                            \\n\\n\\n                                                Lainnya\\n                                            \\n', '\\n\\n', \"\\nTerkait PENGIRIMAN dan\\n                                PEMBAYARAN (termasuk CICILAN),\\n                                silahkan menghubungi layanan pelanggan kami di\\n                                1500-618,\\n                                Live Chat, atau\\n                                cs@jd.id\\n                                . Jam layanan kami mulai dari pukul 8:00-21:00,senin - jum'at.\\n                            \\n\", '\\n\\n!\\n\\n\\n\\nWarm prompt\\nBerikut ini adalah pertanyaan dari user lain, namun jika Anda ingin bertanya tentang produk ini, Silahkan tinggalkan pesan di kolom diskusi dibawah, kami akan merespon secepatnya!\\n\\n\\nPenjelasan\\nProduk specifikasi, stok, dan lainnya bisa ditanyakan di bagian ini, dan akan kami carikan orang yang tepat untuk menjawab dan kami janjikan bahwa jawaban dari kami adalah yang paling benar. Namun tentang pembayaran dan pengiriman, mohon kontak layanan pelanggan kami di 1500-618 atau cs@jd.id. Jam konsultasi kami adalah hari senin - jumat dari pukul 8:00 - 21:00. Mohon ditunggu untuk jawaban anda!\\n\\n\\n\\n\\n\\n\\nPost Pertanyaan\\n\\n\\n\\n', '\\n!\\n\\n\\n\\nWarm prompt\\nBerikut ini adalah pertanyaan dari user lain, namun jika Anda ingin bertanya tentang produk ini, Silahkan tinggalkan pesan di kolom diskusi dibawah, kami akan merespon secepatnya!\\n\\n\\nPenjelasan\\nProduk specifikasi, stok, dan lainnya bisa ditanyakan di bagian ini, dan akan kami carikan orang yang tepat untuk menjawab dan kami janjikan bahwa jawaban dari kami adalah yang paling benar. Namun tentang pembayaran dan pengiriman, mohon kontak layanan pelanggan kami di 1500-618 atau cs@jd.id. Jam konsultasi kami adalah hari senin - jumat dari pukul 8:00 - 21:00. Mohon ditunggu untuk jawaban anda!\\n\\n\\n\\n\\n', '\\n\\n\\nWarm prompt\\nBerikut ini adalah pertanyaan dari user lain, namun jika Anda ingin bertanya tentang produk ini, Silahkan tinggalkan pesan di kolom diskusi dibawah, kami akan merespon secepatnya!\\n\\n\\nPenjelasan\\nProduk specifikasi, stok, dan lainnya bisa ditanyakan di bagian ini, dan akan kami carikan orang yang tepat untuk menjawab dan kami janjikan bahwa jawaban dari kami adalah yang paling benar. Namun tentang pembayaran dan pengiriman, mohon kontak layanan pelanggan kami di 1500-618 atau cs@jd.id. Jam konsultasi kami adalah hari senin - jumat dari pukul 8:00 - 21:00. Mohon ditunggu untuk jawaban anda!\\n\\n\\n\\n', 'Warm prompt', 'Berikut ini adalah pertanyaan dari user lain, namun jika Anda ingin bertanya tentang produk ini, Silahkan tinggalkan pesan di kolom diskusi dibawah, kami akan merespon secepatnya!', 'Penjelasan', 'Produk specifikasi, stok, dan lainnya bisa ditanyakan di bagian ini, dan akan kami carikan orang yang tepat untuk menjawab dan kami janjikan bahwa jawaban dari kami adalah yang paling benar. Namun tentang pembayaran dan pengiriman, mohon kontak layanan pelanggan kami di 1500-618 atau cs@jd.id. Jam konsultasi kami adalah hari senin - jumat dari pukul 8:00 - 21:00. Mohon ditunggu untuk jawaban anda!', '\\n\\n', '\\n\\n\\nSemua ( 0 )\\n                                \\n\\n\\n\\nSemua\\nDiskusi Produk\\nStok\\nGaransi\\nLainnya\\n\\n\\n\\n\\n', '\\n\\nSemua ( 0 )\\n                                \\n\\n\\n\\nSemua\\nDiskusi Produk\\nStok\\nGaransi\\nLainnya\\n\\n\\n\\n', '\\nSemua ( 0 )\\n                                \\n', '\\n\\nSemua\\nDiskusi Produk\\nStok\\nGaransi\\nLainnya\\n\\n\\n', '\\n\\n\\n', '', '', '\\nProduk yang terakhir dilihat\\n\\n\\n\\n\\n', 'Produk yang terakhir dilihat', '\\n\\n\\n', '\\n\\n\\nCatatan\\n\\n\\npersediaan tidak memadai!\\n\\nBatal\\n\\n\\n', '\\n\\nCatatan\\n', '', 'Catatan', '\\npersediaan tidak memadai!\\n\\nBatal\\n\\n', 'persediaan tidak memadai!', '\\nBatal\\n', '\\n\\n\\n\\nPerlindungan Konsumen\\nKami akan mengembalikan uang Anda secara penuh, jika barang tidak sesuai dengan deskripsi atau berkualitas buruk\\n\\n\\n\\nJaminan Pengiriman\\nKami akan mengembalikan uang Anda secara penuh, jika barang tidak terkirim\\n\\n\\n\\nPembayaran Aman\\nKami menghadirkan pilihan metode pembayaran yang aman dan bervariasi\\n\\n\\n\\nRespon Cepat\\nPertanyaan akan ditanggapi dalam waktu 24 jam\\r\\n        \\n\\n\\nJaminan Keaslian\\nKami menjamin produk yang kami jual 100% bukan barang palsu\\n\\n\\n', '\\n\\n\\nPerlindungan Konsumen\\nKami akan mengembalikan uang Anda secara penuh, jika barang tidak sesuai dengan deskripsi atau berkualitas buruk\\n\\n\\n\\nJaminan Pengiriman\\nKami akan mengembalikan uang Anda secara penuh, jika barang tidak terkirim\\n\\n\\n\\nPembayaran Aman\\nKami menghadirkan pilihan metode pembayaran yang aman dan bervariasi\\n\\n\\n\\nRespon Cepat\\nPertanyaan akan ditanggapi dalam waktu 24 jam\\r\\n        \\n\\n\\nJaminan Keaslian\\nKami menjamin produk yang kami jual 100% bukan barang palsu\\n\\n', '\\n\\nPerlindungan Konsumen\\nKami akan mengembalikan uang Anda secara penuh, jika barang tidak sesuai dengan deskripsi atau berkualitas buruk\\n', '\\n\\nJaminan Pengiriman\\nKami akan mengembalikan uang Anda secara penuh, jika barang tidak terkirim\\n', '\\n\\nPembayaran Aman\\nKami menghadirkan pilihan metode pembayaran yang aman dan bervariasi\\n', '\\n\\nRespon Cepat\\nPertanyaan akan ditanggapi dalam waktu 24 jam\\r\\n        ', '\\n\\nJaminan Keaslian\\nKami menjamin produk yang kami jual 100% bukan barang palsu\\n', '\\n\\n\\n\\nPanduan Pengguna Baru\\nCara Berbelanja\\nKupon\\nHubungi Kami\\nInformasi Pengiriman\\n\\n\\nAkun Dan Keanggotaan\\nPendaftaran\\nLupa Password\\nKebijakan Privasi\\n\\n\\nLayanan Purna Jual\\nKebijakan Purna Jual\\nPengembalian uang\\nProsedur Pengembalian\\nPembatalan Pesanan\\n\\n\\nPerlindungan Konsumen\\nPembayaran yang aman\\nPengembalian uang & barang\\n\\n\\nMengenai JD\\nProfil Perusahaan\\nProfil Pendiri\\nVisi & Misi\\nRekruitmen JD\\nJadi Vendor Kami\\n\\n\\n\\nCopyright © 2006- www.jd.id Ltd. All Rights Reserved\\n Ketentuan & Kondisi\\n\\n\\n', '\\n\\n\\nPanduan Pengguna Baru\\nCara Berbelanja\\nKupon\\nHubungi Kami\\nInformasi Pengiriman\\n\\n\\nAkun Dan Keanggotaan\\nPendaftaran\\nLupa Password\\nKebijakan Privasi\\n\\n\\nLayanan Purna Jual\\nKebijakan Purna Jual\\nPengembalian uang\\nProsedur Pengembalian\\nPembatalan Pesanan\\n\\n\\nPerlindungan Konsumen\\nPembayaran yang aman\\nPengembalian uang & barang\\n\\n\\nMengenai JD\\nProfil Perusahaan\\nProfil Pendiri\\nVisi & Misi\\nRekruitmen JD\\nJadi Vendor Kami\\n\\n\\n\\nCopyright © 2006- www.jd.id Ltd. All Rights Reserved\\n Ketentuan & Kondisi\\n\\n', '\\n\\nPanduan Pengguna Baru\\nCara Berbelanja\\nKupon\\nHubungi Kami\\nInformasi Pengiriman\\n\\n\\nAkun Dan Keanggotaan\\nPendaftaran\\nLupa Password\\nKebijakan Privasi\\n\\n\\nLayanan Purna Jual\\nKebijakan Purna Jual\\nPengembalian uang\\nProsedur Pengembalian\\nPembatalan Pesanan\\n\\n\\nPerlindungan Konsumen\\nPembayaran yang aman\\nPengembalian uang & barang\\n\\n\\nMengenai JD\\nProfil Perusahaan\\nProfil Pendiri\\nVisi & Misi\\nRekruitmen JD\\nJadi Vendor Kami\\n\\n', '\\nCopyright © 2006- www.jd.id Ltd. All Rights Reserved\\n Ketentuan & Kondisi\\n', '\\n\\n\\n \\n\\nTel: 1500 618\\nMon-Fri:8am－9pm\\nSat-Sun:8am－5pm\\n\\n\\n\\n\\nOnline Talk\\n\\n\\n Top\\n\\n\\n']\n"
     ]
    }
   ],
   "source": [
    "import re\n",
    "import urllib.request\n",
    "from bs4 import BeautifulSoup\n",
    "\n",
    "url=urllib.request.urlopen('https://www.jd.id/product/google-chromecast-2-2015-hdmi-streaming-media-player-black-toko-edition_704364/10044059.html')\n",
    "isi=url.read()\n",
    "soup=BeautifulSoup(isi,'lxml')\n",
    "\n",
    "k=[]\n",
    "for teks in soup.findAll('div'):\n",
    "    teks.getText()\n",
    "    k.append(teks.getText())\n",
    "print (k)\n"
   ]
  },
  {
   "cell_type": "code",
   "execution_count": null,
   "metadata": {
    "collapsed": true
   },
   "outputs": [],
   "source": []
  },
  {
   "cell_type": "code",
   "execution_count": 83,
   "metadata": {
    "collapsed": false
   },
   "outputs": [
    {
     "ename": "TypeError",
     "evalue": "Empty 'DataFrame': no numeric data to plot",
     "output_type": "error",
     "traceback": [
      "\u001b[1;31m---------------------------------------------------------------------------\u001b[0m",
      "\u001b[1;31mTypeError\u001b[0m                                 Traceback (most recent call last)",
      "\u001b[1;32m<ipython-input-83-9d26fd8a63e7>\u001b[0m in \u001b[0;36m<module>\u001b[1;34m()\u001b[0m\n\u001b[0;32m      8\u001b[0m \u001b[0mre\u001b[0m\u001b[1;33m.\u001b[0m\u001b[0mfindall\u001b[0m\u001b[1;33m(\u001b[0m\u001b[0mpola\u001b[0m\u001b[1;33m,\u001b[0m\u001b[0mkalimat\u001b[0m\u001b[1;33m)\u001b[0m\u001b[1;33m\u001b[0m\u001b[0m\n\u001b[0;32m      9\u001b[0m \u001b[0mcount_kalimat\u001b[0m\u001b[1;33m=\u001b[0m\u001b[0mcollections\u001b[0m\u001b[1;33m.\u001b[0m\u001b[0mCounter\u001b[0m\u001b[1;33m(\u001b[0m\u001b[0mre\u001b[0m\u001b[1;33m.\u001b[0m\u001b[0mfindall\u001b[0m\u001b[1;33m(\u001b[0m\u001b[0mpola\u001b[0m\u001b[1;33m,\u001b[0m\u001b[0mkalimat\u001b[0m\u001b[1;33m)\u001b[0m\u001b[1;33m)\u001b[0m\u001b[1;33m\u001b[0m\u001b[0m\n\u001b[1;32m---> 10\u001b[1;33m \u001b[0mpd\u001b[0m\u001b[1;33m.\u001b[0m\u001b[0mSeries\u001b[0m\u001b[1;33m(\u001b[0m\u001b[0mcount_kalimat\u001b[0m\u001b[1;33m)\u001b[0m\u001b[1;33m.\u001b[0m\u001b[0mplot\u001b[0m\u001b[1;33m.\u001b[0m\u001b[0mbarh\u001b[0m\u001b[1;33m(\u001b[0m\u001b[1;33m)\u001b[0m\u001b[1;33m\u001b[0m\u001b[0m\n\u001b[0m",
      "\u001b[1;32mC:\\Users\\Agri Fina\\AppData\\Local\\Enthought\\Canopy\\edm\\envs\\User\\lib\\site-packages\\pandas\\tools\\plotting.py\u001b[0m in \u001b[0;36mbarh\u001b[1;34m(self, **kwds)\u001b[0m\n\u001b[0;32m   3650\u001b[0m         \u001b[0maxes\u001b[0m \u001b[1;33m:\u001b[0m \u001b[0mmatplotlib\u001b[0m\u001b[1;33m.\u001b[0m\u001b[0mAxesSubplot\u001b[0m \u001b[1;32mor\u001b[0m \u001b[0mnp\u001b[0m\u001b[1;33m.\u001b[0m\u001b[0marray\u001b[0m \u001b[0mof\u001b[0m \u001b[0mthem\u001b[0m\u001b[1;33m\u001b[0m\u001b[0m\n\u001b[0;32m   3651\u001b[0m         \"\"\"\n\u001b[1;32m-> 3652\u001b[1;33m         \u001b[1;32mreturn\u001b[0m \u001b[0mself\u001b[0m\u001b[1;33m(\u001b[0m\u001b[0mkind\u001b[0m\u001b[1;33m=\u001b[0m\u001b[1;34m'barh'\u001b[0m\u001b[1;33m,\u001b[0m \u001b[1;33m**\u001b[0m\u001b[0mkwds\u001b[0m\u001b[1;33m)\u001b[0m\u001b[1;33m\u001b[0m\u001b[0m\n\u001b[0m\u001b[0;32m   3653\u001b[0m \u001b[1;33m\u001b[0m\u001b[0m\n\u001b[0;32m   3654\u001b[0m     \u001b[1;32mdef\u001b[0m \u001b[0mbox\u001b[0m\u001b[1;33m(\u001b[0m\u001b[0mself\u001b[0m\u001b[1;33m,\u001b[0m \u001b[1;33m**\u001b[0m\u001b[0mkwds\u001b[0m\u001b[1;33m)\u001b[0m\u001b[1;33m:\u001b[0m\u001b[1;33m\u001b[0m\u001b[0m\n",
      "\u001b[1;32mC:\\Users\\Agri Fina\\AppData\\Local\\Enthought\\Canopy\\edm\\envs\\User\\lib\\site-packages\\pandas\\tools\\plotting.py\u001b[0m in \u001b[0;36m__call__\u001b[1;34m(self, kind, ax, figsize, use_index, title, grid, legend, style, logx, logy, loglog, xticks, yticks, xlim, ylim, rot, fontsize, colormap, table, yerr, xerr, label, secondary_y, **kwds)\u001b[0m\n\u001b[0;32m   3598\u001b[0m                            \u001b[0mcolormap\u001b[0m\u001b[1;33m=\u001b[0m\u001b[0mcolormap\u001b[0m\u001b[1;33m,\u001b[0m \u001b[0mtable\u001b[0m\u001b[1;33m=\u001b[0m\u001b[0mtable\u001b[0m\u001b[1;33m,\u001b[0m \u001b[0myerr\u001b[0m\u001b[1;33m=\u001b[0m\u001b[0myerr\u001b[0m\u001b[1;33m,\u001b[0m\u001b[1;33m\u001b[0m\u001b[0m\n\u001b[0;32m   3599\u001b[0m                            \u001b[0mxerr\u001b[0m\u001b[1;33m=\u001b[0m\u001b[0mxerr\u001b[0m\u001b[1;33m,\u001b[0m \u001b[0mlabel\u001b[0m\u001b[1;33m=\u001b[0m\u001b[0mlabel\u001b[0m\u001b[1;33m,\u001b[0m \u001b[0msecondary_y\u001b[0m\u001b[1;33m=\u001b[0m\u001b[0msecondary_y\u001b[0m\u001b[1;33m,\u001b[0m\u001b[1;33m\u001b[0m\u001b[0m\n\u001b[1;32m-> 3600\u001b[1;33m                            **kwds)\n\u001b[0m\u001b[0;32m   3601\u001b[0m     \u001b[0m__call__\u001b[0m\u001b[1;33m.\u001b[0m\u001b[0m__doc__\u001b[0m \u001b[1;33m=\u001b[0m \u001b[0mplot_series\u001b[0m\u001b[1;33m.\u001b[0m\u001b[0m__doc__\u001b[0m\u001b[1;33m\u001b[0m\u001b[0m\n\u001b[0;32m   3602\u001b[0m \u001b[1;33m\u001b[0m\u001b[0m\n",
      "\u001b[1;32mC:\\Users\\Agri Fina\\AppData\\Local\\Enthought\\Canopy\\edm\\envs\\User\\lib\\site-packages\\pandas\\tools\\plotting.py\u001b[0m in \u001b[0;36mplot_series\u001b[1;34m(data, kind, ax, figsize, use_index, title, grid, legend, style, logx, logy, loglog, xticks, yticks, xlim, ylim, rot, fontsize, colormap, table, yerr, xerr, label, secondary_y, **kwds)\u001b[0m\n\u001b[0;32m   2672\u001b[0m                  \u001b[0myerr\u001b[0m\u001b[1;33m=\u001b[0m\u001b[0myerr\u001b[0m\u001b[1;33m,\u001b[0m \u001b[0mxerr\u001b[0m\u001b[1;33m=\u001b[0m\u001b[0mxerr\u001b[0m\u001b[1;33m,\u001b[0m\u001b[1;33m\u001b[0m\u001b[0m\n\u001b[0;32m   2673\u001b[0m                  \u001b[0mlabel\u001b[0m\u001b[1;33m=\u001b[0m\u001b[0mlabel\u001b[0m\u001b[1;33m,\u001b[0m \u001b[0msecondary_y\u001b[0m\u001b[1;33m=\u001b[0m\u001b[0msecondary_y\u001b[0m\u001b[1;33m,\u001b[0m\u001b[1;33m\u001b[0m\u001b[0m\n\u001b[1;32m-> 2674\u001b[1;33m                  **kwds)\n\u001b[0m\u001b[0;32m   2675\u001b[0m \u001b[1;33m\u001b[0m\u001b[0m\n\u001b[0;32m   2676\u001b[0m \u001b[1;33m\u001b[0m\u001b[0m\n",
      "\u001b[1;32mC:\\Users\\Agri Fina\\AppData\\Local\\Enthought\\Canopy\\edm\\envs\\User\\lib\\site-packages\\pandas\\tools\\plotting.py\u001b[0m in \u001b[0;36m_plot\u001b[1;34m(data, x, y, subplots, ax, kind, **kwds)\u001b[0m\n\u001b[0;32m   2468\u001b[0m         \u001b[0mplot_obj\u001b[0m \u001b[1;33m=\u001b[0m \u001b[0mklass\u001b[0m\u001b[1;33m(\u001b[0m\u001b[0mdata\u001b[0m\u001b[1;33m,\u001b[0m \u001b[0msubplots\u001b[0m\u001b[1;33m=\u001b[0m\u001b[0msubplots\u001b[0m\u001b[1;33m,\u001b[0m \u001b[0max\u001b[0m\u001b[1;33m=\u001b[0m\u001b[0max\u001b[0m\u001b[1;33m,\u001b[0m \u001b[0mkind\u001b[0m\u001b[1;33m=\u001b[0m\u001b[0mkind\u001b[0m\u001b[1;33m,\u001b[0m \u001b[1;33m**\u001b[0m\u001b[0mkwds\u001b[0m\u001b[1;33m)\u001b[0m\u001b[1;33m\u001b[0m\u001b[0m\n\u001b[0;32m   2469\u001b[0m \u001b[1;33m\u001b[0m\u001b[0m\n\u001b[1;32m-> 2470\u001b[1;33m     \u001b[0mplot_obj\u001b[0m\u001b[1;33m.\u001b[0m\u001b[0mgenerate\u001b[0m\u001b[1;33m(\u001b[0m\u001b[1;33m)\u001b[0m\u001b[1;33m\u001b[0m\u001b[0m\n\u001b[0m\u001b[0;32m   2471\u001b[0m     \u001b[0mplot_obj\u001b[0m\u001b[1;33m.\u001b[0m\u001b[0mdraw\u001b[0m\u001b[1;33m(\u001b[0m\u001b[1;33m)\u001b[0m\u001b[1;33m\u001b[0m\u001b[0m\n\u001b[0;32m   2472\u001b[0m     \u001b[1;32mreturn\u001b[0m \u001b[0mplot_obj\u001b[0m\u001b[1;33m.\u001b[0m\u001b[0mresult\u001b[0m\u001b[1;33m\u001b[0m\u001b[0m\n",
      "\u001b[1;32mC:\\Users\\Agri Fina\\AppData\\Local\\Enthought\\Canopy\\edm\\envs\\User\\lib\\site-packages\\pandas\\tools\\plotting.py\u001b[0m in \u001b[0;36mgenerate\u001b[1;34m(self)\u001b[0m\n\u001b[0;32m   1039\u001b[0m     \u001b[1;32mdef\u001b[0m \u001b[0mgenerate\u001b[0m\u001b[1;33m(\u001b[0m\u001b[0mself\u001b[0m\u001b[1;33m)\u001b[0m\u001b[1;33m:\u001b[0m\u001b[1;33m\u001b[0m\u001b[0m\n\u001b[0;32m   1040\u001b[0m         \u001b[0mself\u001b[0m\u001b[1;33m.\u001b[0m\u001b[0m_args_adjust\u001b[0m\u001b[1;33m(\u001b[0m\u001b[1;33m)\u001b[0m\u001b[1;33m\u001b[0m\u001b[0m\n\u001b[1;32m-> 1041\u001b[1;33m         \u001b[0mself\u001b[0m\u001b[1;33m.\u001b[0m\u001b[0m_compute_plot_data\u001b[0m\u001b[1;33m(\u001b[0m\u001b[1;33m)\u001b[0m\u001b[1;33m\u001b[0m\u001b[0m\n\u001b[0m\u001b[0;32m   1042\u001b[0m         \u001b[0mself\u001b[0m\u001b[1;33m.\u001b[0m\u001b[0m_setup_subplots\u001b[0m\u001b[1;33m(\u001b[0m\u001b[1;33m)\u001b[0m\u001b[1;33m\u001b[0m\u001b[0m\n\u001b[0;32m   1043\u001b[0m         \u001b[0mself\u001b[0m\u001b[1;33m.\u001b[0m\u001b[0m_make_plot\u001b[0m\u001b[1;33m(\u001b[0m\u001b[1;33m)\u001b[0m\u001b[1;33m\u001b[0m\u001b[0m\n",
      "\u001b[1;32mC:\\Users\\Agri Fina\\AppData\\Local\\Enthought\\Canopy\\edm\\envs\\User\\lib\\site-packages\\pandas\\tools\\plotting.py\u001b[0m in \u001b[0;36m_compute_plot_data\u001b[1;34m(self)\u001b[0m\n\u001b[0;32m   1148\u001b[0m         \u001b[1;32mif\u001b[0m \u001b[0mis_empty\u001b[0m\u001b[1;33m:\u001b[0m\u001b[1;33m\u001b[0m\u001b[0m\n\u001b[0;32m   1149\u001b[0m             raise TypeError('Empty {0!r}: no numeric data to '\n\u001b[1;32m-> 1150\u001b[1;33m                             'plot'.format(numeric_data.__class__.__name__))\n\u001b[0m\u001b[0;32m   1151\u001b[0m \u001b[1;33m\u001b[0m\u001b[0m\n\u001b[0;32m   1152\u001b[0m         \u001b[0mself\u001b[0m\u001b[1;33m.\u001b[0m\u001b[0mdata\u001b[0m \u001b[1;33m=\u001b[0m \u001b[0mnumeric_data\u001b[0m\u001b[1;33m\u001b[0m\u001b[0m\n",
      "\u001b[1;31mTypeError\u001b[0m: Empty 'DataFrame': no numeric data to plot"
     ]
    }
   ],
   "source": [
    "\n",
    "%matplotlib inline\n",
    "import matplotlib.pyplot as plt\n",
    "import collections\n",
    "import pandas as pd\n",
    "kalimat=k[0]\n",
    "pola='[A-Z]\\w+'\n",
    "re.findall(pola,kalimat)\n",
    "count_kalimat=collections.Counter(re.findall(pola,kalimat))\n",
    "pd.Series(count_kalimat).plot.barh()"
   ]
  },
  {
   "cell_type": "code",
   "execution_count": 80,
   "metadata": {
    "collapsed": false
   },
   "outputs": [
    {
     "name": "stderr",
     "output_type": "stream",
     "text": [
      "C:\\Users\\Agri Fina\\AppData\\Local\\Enthought\\Canopy\\edm\\envs\\User\\lib\\site-packages\\bs4\\__init__.py:181: UserWarning: No parser was explicitly specified, so I'm using the best available HTML parser for this system (\"lxml\"). This usually isn't a problem, but if you run this code on another system, or in a different virtual environment, it may use a different parser and behave differently.\n",
      "\n",
      "The code that caused this warning is on line 184 of the file C:\\Users\\Agri Fina\\AppData\\Local\\Enthought\\Canopy\\edm\\envs\\User\\lib\\runpy.py. To get rid of this warning, change code that looks like this:\n",
      "\n",
      " BeautifulSoup(YOUR_MARKUP})\n",
      "\n",
      "to this:\n",
      "\n",
      " BeautifulSoup(YOUR_MARKUP, \"lxml\")\n",
      "\n",
      "  markup_type=markup_type))\n"
     ]
    }
   ],
   "source": [
    "from urllib.request import urlopen\n",
    "from bs4 import BeautifulSoup\n",
    "html = urlopen(\"http://www.pythonscraping.com/pages/warandpeace.html\")\n",
    "brObj = BeautifulSoup(html)"
   ]
  },
  {
   "cell_type": "code",
   "execution_count": 105,
   "metadata": {
    "collapsed": false
   },
   "outputs": [
    {
     "name": "stdout",
     "output_type": "stream",
     "text": [
      "['Nama toko:', '\\nM2 Store SM\\n', '', '', 'GOOGLE Chromecast 2 (2015)', '', '', '', '', '', 'Google Chromecast merupakan aksesori canggih untuk mengubah TV Anda menjadi lebih cerdas. Dengan Google Chromecast, TV Anda bisa mengakses internet, memutar video, musik bahkan bermain game. Cukup siapkan TV dengan port HDMI, koneksi WiFi dan smartphone/tablet Android atau iOS dan Anda pun siap menikmati konten multimedia yang ada, langsung di layar TV.', '', '', '', '', '', 'Unlimited Entertainment', '', 'Dengan Google Chromecast, Anda memiliki akses ke banyak konten hiburan dan multimedia seperti acara TV, film, lagu, radio, siaran olahraga, dan juga permainan. Anda pun jadi bisa menikmati konten tersebut dengan lebih nyaman di layar TV Anda, tak lagi terbatas oleh layar smartphone atau tablet yang kecil. Yang terpenting, Anda bisa meneruskan kegiatan Anda di smartphone/tablet dan tayangan di TV tidak terganggu ataupun sebaliknya.', '', '', 'Make Your TV Smarter', '', 'Jangan terburu-buru mengganti TV lama Anda dengan model terbaru. Dengan Google Chromecast, Anda serasa memiliki Smart TV berkat kemampuan cerdas dan beragam yang dimiliki. Smartphone/tablet Anda seakan berubah menjadi remote TV dan Anda pun bisa melakukan banyak hal baru seperti membuka halaman web, streaming video, musik, hingga mirror atau menampilkan apa yang ada pada layar smartphone/tablet Anda di layar TV.', ' ', '', '', 'Detail', '', '- Output: HDMI, CEC (Consumer Electronics Control)', '- Video Resolution Max: 1080p', '- Dimensi: 5,19 x 5,19 x 1,35 cm', '- Berat: 39,1 gram', '- Panjang kabel: 1,75 m', '- Port: HDMI, microUSB', '- Konektivitas: WiFi 802.11 b/g/n/ac (2.4GHz/5GHz)', '- Support: Android 4,1+, iOS 7+, Windows 7+, Mac OS 10,7+, Chrome OS 28+', '', \"Terkait PENGIRIMAN dan\\n                                PEMBAYARAN (termasuk CICILAN),\\n                                silahkan menghubungi layanan pelanggan kami di\\n                                1500-618,\\n                                Live Chat, atau\\n                                cs@jd.id\\n                                . Jam layanan kami mulai dari pukul 8:00-21:00,senin - jum'at.\\n                            \", 'Kami akan mengembalikan uang Anda secara penuh, jika barang tidak sesuai dengan deskripsi atau berkualitas buruk', 'Kami akan mengembalikan uang Anda secara penuh, jika barang tidak terkirim', 'Kami menghadirkan pilihan metode pembayaran yang aman dan bervariasi', 'Pertanyaan akan ditanggapi dalam waktu 24 jam\\r\\n        ', 'Kami menjamin produk yang kami jual 100% bukan barang palsu', 'Copyright © 2006- www.jd.id Ltd. All Rights Reserved', ' Ketentuan & Kondisi']\n"
     ]
    }
   ],
   "source": [
    "import re\n",
    "import urllib.request\n",
    "from bs4 import BeautifulSoup\n",
    "\n",
    "url=urllib.request.urlopen('https://www.jd.id/product/google-chromecast-2-2015-hdmi-streaming-media-player-black-toko-edition_704364/10044059.html')\n",
    "isi=url.read()\n",
    "soup=BeautifulSoup(isi,'lxml')\n",
    "\n",
    "k=[]\n",
    "for teks in soup.findAll('p'):\n",
    "    teks.getText()\n",
    "    k.append(teks.getText())\n",
    "print (k)\n"
   ]
  },
  {
   "cell_type": "code",
   "execution_count": null,
   "metadata": {
    "collapsed": true
   },
   "outputs": [],
   "source": []
  }
 ],
 "metadata": {
  "kernelspec": {
   "display_name": "Python 3",
   "language": "python",
   "name": "python3"
  },
  "language_info": {
   "codemirror_mode": {
    "name": "ipython",
    "version": 3
   },
   "file_extension": ".py",
   "mimetype": "text/x-python",
   "name": "python",
   "nbconvert_exporter": "python",
   "pygments_lexer": "ipython3",
   "version": "3.5.2"
  }
 },
 "nbformat": 4,
 "nbformat_minor": 2
}
