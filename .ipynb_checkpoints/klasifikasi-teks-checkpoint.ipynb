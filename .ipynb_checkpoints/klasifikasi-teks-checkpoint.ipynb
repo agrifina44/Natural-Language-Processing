{
 "cells": [
  {
   "cell_type": "code",
   "execution_count": 1,
   "metadata": {
    "collapsed": false,
    "deletable": true,
    "editable": true
   },
   "outputs": [
    {
     "name": "stderr",
     "output_type": "stream",
     "text": [
      "C:\\Users\\Agri Fina\\AppData\\Local\\Enthought\\Canopy\\edm\\envs\\User\\lib\\site-packages\\sklearn\\cross_validation.py:44: DeprecationWarning: This module was deprecated in version 0.18 in favor of the model_selection module into which all the refactored classes and functions are moved. Also note that the interface of the new CV iterators are different from that of this module. This module will be removed in 0.20.\n",
      "  \"This module will be removed in 0.20.\", DeprecationWarning)\n"
     ]
    }
   ],
   "source": [
    "import pandas as pd\n",
    "from sklearn.naive_bayes import MultinomialNB, BernoulliNB\n",
    "from sklearn.svm import LinearSVC\n",
    "from sklearn.neural_network import multilayer_perceptron\n",
    "from sklearn.feature_extraction.text import TfidfVectorizer,CountVectorizer,TfidfTransformer\n",
    "\n",
    "from sklearn.cross_validation import train_test_split"
   ]
  },
  {
   "cell_type": "code",
   "execution_count": null,
   "metadata": {
    "collapsed": true,
    "deletable": true,
    "editable": true
   },
   "outputs": [],
   "source": [
    "word=['Chinese Beijing Chinese', 'Chinese Chinese Shanghai', \n",
    "     'Chinese Macao','Tokyo Japan Chinese','Chinese, Chinese, Chinese, Tokyo, Japan'\n",
    "     ]\n",
    "word"
   ]
  },
  {
   "cell_type": "code",
   "execution_count": null,
   "metadata": {
    "collapsed": true,
    "deletable": true,
    "editable": true
   },
   "outputs": [],
   "source": [
    "class_=['yes','yes','yes','no','yes']"
   ]
  },
  {
   "cell_type": "code",
   "execution_count": null,
   "metadata": {
    "collapsed": true,
    "deletable": true,
    "editable": true
   },
   "outputs": [],
   "source": [
    "data=pd.DataFrame(word,columns=['word']).join(pd.DataFrame(class_,columns=['class']))\n",
    "data"
   ]
  },
  {
   "cell_type": "code",
   "execution_count": null,
   "metadata": {
    "collapsed": true,
    "deletable": true,
    "editable": true
   },
   "outputs": [],
   "source": [
    "data_train=data[:][:4]\n",
    "data_train"
   ]
  },
  {
   "cell_type": "code",
   "execution_count": null,
   "metadata": {
    "collapsed": true,
    "deletable": true,
    "editable": true
   },
   "outputs": [],
   "source": [
    "data_test=data[:][4:]\n",
    "data_test"
   ]
  },
  {
   "cell_type": "code",
   "execution_count": null,
   "metadata": {
    "collapsed": true,
    "deletable": true,
    "editable": true
   },
   "outputs": [],
   "source": [
    "vec=CountVectorizer(max_df=10000)\n",
    "x=vec.fit_transform(data_train['word'])\n",
    "print vec.get_feature_names()\n",
    "print x.toarray()"
   ]
  },
  {
   "cell_type": "code",
   "execution_count": null,
   "metadata": {
    "collapsed": true,
    "deletable": true,
    "editable": true
   },
   "outputs": [],
   "source": [
    "#clf=MultinomialNB().fit(x,data_train['class'])\n",
    "from sklearn.feature_extraction.text import TfidfVectorizer\n",
    "args = {\n",
    "    \"stop_words\": \"english\",\n",
    "    \"lowercase\": True,\n",
    "    \"norm\": \"l2\",\n",
    "    \"use_idf\": True,\n",
    "    \"smooth_idf\": True,\n",
    "    \"sublinear_tf\": True\n",
    "}\n",
    "vectorizer = TfidfVectorizer(**args)"
   ]
  },
  {
   "cell_type": "code",
   "execution_count": null,
   "metadata": {
    "collapsed": true,
    "deletable": true,
    "editable": true
   },
   "outputs": [],
   "source": [
    "from sklearn.pipeline import Pipeline\n",
    "text_clf=Pipeline([\n",
    "        ('tfidf',TfidfVectorizer(**args)),\n",
    "        ('clf',MultinomialNB()),\n",
    "        \n",
    "    ]\n",
    ")\n",
    "text_clf=text_clf.fit(data_train['word'],data_train['class'])\n",
    "print text_clf.predict(data_test['word'])\n",
    "print text_clf.predict_proba(data_test['word'])\n",
    "print text_clf.classes_"
   ]
  },
  {
   "cell_type": "code",
   "execution_count": null,
   "metadata": {
    "collapsed": true,
    "deletable": true,
    "editable": true
   },
   "outputs": [],
   "source": [
    "from sklearn.metrics import accuracy_score,precision_score,confusion_matrix\n",
    "print accuracy_score(text_clf.predict(data_test['word']),data_test['class'])\n",
    "print confusion_matrix(text_clf.predict(data_test['word']),data_test['class'])"
   ]
  }
 ],
 "metadata": {
  "kernelspec": {
   "display_name": "Python 3",
   "language": "python",
   "name": "python3"
  },
  "language_info": {
   "codemirror_mode": {
    "name": "ipython",
    "version": 3
   },
   "file_extension": ".py",
   "mimetype": "text/x-python",
   "name": "python",
   "nbconvert_exporter": "python",
   "pygments_lexer": "ipython3",
   "version": "3.5.2"
  }
 },
 "nbformat": 4,
 "nbformat_minor": 0
}
