{
 "cells": [
  {
   "cell_type": "code",
   "execution_count": 1,
   "metadata": {
    "collapsed": false,
    "deletable": true,
    "editable": true
   },
   "outputs": [
    {
     "data": {
      "text/plain": [
       "['Drenched', 'Blossoms']"
      ]
     },
     "execution_count": 1,
     "metadata": {},
     "output_type": "execute_result"
    }
   ],
   "source": [
    "import re\n",
    "\n",
    "kalimat=\"we should call it 'Drenched Blossoms'\"\n",
    "pola='[A-Z]\\w+'\n",
    "\n",
    "re.findall(pola,kalimat)\n"
   ]
  },
  {
   "cell_type": "code",
   "execution_count": 2,
   "metadata": {
    "collapsed": false,
    "deletable": true,
    "editable": true
   },
   "outputs": [
    {
     "data": {
      "text/plain": [
       "['D', 'B']"
      ]
     },
     "execution_count": 2,
     "metadata": {},
     "output_type": "execute_result"
    }
   ],
   "source": [
    "kalimat=\"we should call it 'Drenched Blossoms'\"\n",
    "pola='[A-Z]'\n",
    "\n",
    "re.findall(pola,kalimat)"
   ]
  },
  {
   "cell_type": "code",
   "execution_count": 3,
   "metadata": {
    "collapsed": false,
    "deletable": true,
    "editable": true
   },
   "outputs": [
    {
     "data": {
      "text/plain": [
       "['2', '0', '0']"
      ]
     },
     "execution_count": 3,
     "metadata": {},
     "output_type": "execute_result"
    }
   ],
   "source": [
    "kalimat=\"we should call it 'Drenched Blossoms 200'\"\n",
    "pola='[0-9]'\n",
    "\n",
    "re.findall(pola,kalimat)"
   ]
  },
  {
   "cell_type": "code",
   "execution_count": 4,
   "metadata": {
    "collapsed": false,
    "deletable": true,
    "editable": true
   },
   "outputs": [
    {
     "data": {
      "text/plain": [
       "['200']"
      ]
     },
     "execution_count": 4,
     "metadata": {},
     "output_type": "execute_result"
    }
   ],
   "source": [
    "kalimat=\"saya 200'\"\n",
    "pola='[0-9][0-9]*'\n",
    "\n",
    "re.findall(pola,kalimat)"
   ]
  },
  {
   "cell_type": "code",
   "execution_count": 5,
   "metadata": {
    "collapsed": false,
    "deletable": true,
    "editable": true
   },
   "outputs": [
    {
     "data": {
      "text/plain": [
       "['', '', 'aa', '', '', '']"
      ]
     },
     "execution_count": 5,
     "metadata": {},
     "output_type": "execute_result"
    }
   ],
   "source": [
    "kalimat=\"sbaa!!\" #{s}{b}{aa,0}{!}{!}\n",
    "pola='a*'\n",
    "\n",
    "re.findall(pola,kalimat)"
   ]
  },
  {
   "cell_type": "markdown",
   "metadata": {
    "deletable": true,
    "editable": true
   },
   "source": [
    "### COBA BANDINGKAN? DAN COBA JELASKAN"
   ]
  },
  {
   "cell_type": "code",
   "execution_count": 6,
   "metadata": {
    "collapsed": false,
    "deletable": true,
    "editable": true
   },
   "outputs": [
    {
     "data": {
      "text/plain": [
       "['200']"
      ]
     },
     "execution_count": 6,
     "metadata": {},
     "output_type": "execute_result"
    }
   ],
   "source": [
    "kalimat=\"saya 200'\"\n",
    "pola='[0-9]+'\n",
    "\n",
    "re.findall(pola,kalimat)"
   ]
  },
  {
   "cell_type": "code",
   "execution_count": 7,
   "metadata": {
    "collapsed": false,
    "deletable": true,
    "editable": true
   },
   "outputs": [
    {
     "data": {
      "text/plain": [
       "[]"
      ]
     },
     "execution_count": 7,
     "metadata": {},
     "output_type": "execute_result"
    }
   ],
   "source": [
    "kalimat=\"we should call it 'Drenched Blossoms'\"\n",
    "pola='/[^A-Z]/'\n",
    "\n",
    "re.findall(pola,kalimat)"
   ]
  },
  {
   "cell_type": "code",
   "execution_count": 8,
   "metadata": {
    "collapsed": false,
    "deletable": true,
    "editable": true
   },
   "outputs": [
    {
     "data": {
      "text/plain": [
       "['l', 'o', 'o', 'k', ' ', 'u', 'p', ' ', '^', ' ', 'n', 'o', 'w']"
      ]
     },
     "execution_count": 8,
     "metadata": {},
     "output_type": "execute_result"
    }
   ],
   "source": [
    "kalimat=\"look up ^ now\"\n",
    "pola='[^e]'\n",
    "\n",
    "re.findall(pola,kalimat)"
   ]
  },
  {
   "cell_type": "code",
   "execution_count": 9,
   "metadata": {
    "collapsed": false,
    "deletable": true,
    "editable": true
   },
   "outputs": [
    {
     "data": {
      "text/plain": [
       "['aaaa', 'AAAA']"
      ]
     },
     "execution_count": 9,
     "metadata": {},
     "output_type": "execute_result"
    }
   ],
   "source": [
    "kalimat=\"color or colour ???? baaaa! AAAA\"\n",
    "\n",
    "pola='[aA]+'\n",
    "\n",
    "re.findall(pola,kalimat)"
   ]
  },
  {
   "cell_type": "code",
   "execution_count": 10,
   "metadata": {
    "collapsed": false
   },
   "outputs": [
    {
     "data": {
      "text/plain": [
       "['', '', 'aa', '', '', '']"
      ]
     },
     "execution_count": 10,
     "metadata": {},
     "output_type": "execute_result"
    }
   ],
   "source": [
    "kalimat=\"sbaa!!\" #{s}{b}{aa,0}{!}{!}\n",
    "pola='a*'\n",
    "\n",
    "re.findall(pola,kalimat)"
   ]
  },
  {
   "cell_type": "code",
   "execution_count": 11,
   "metadata": {
    "collapsed": false
   },
   "outputs": [
    {
     "data": {
      "text/plain": [
       "['aaaa', 'AAAA']"
      ]
     },
     "execution_count": 11,
     "metadata": {},
     "output_type": "execute_result"
    }
   ],
   "source": [
    "kalimat=\"???? baaaa! AAAA\"\n",
    "\n",
    "pola='[aA]+'\n",
    "\n",
    "re.findall(pola,kalimat)"
   ]
  },
  {
   "cell_type": "code",
   "execution_count": 12,
   "metadata": {
    "collapsed": false
   },
   "outputs": [
    {
     "data": {
      "text/plain": [
       "['aaa', 'AAAAA']"
      ]
     },
     "execution_count": 12,
     "metadata": {},
     "output_type": "execute_result"
    }
   ],
   "source": [
    "kalimat=\"color or colour ???? baaa! AAAAAb\"\n",
    "\n",
    "pola='[aA]+'\n",
    "\n",
    "re.findall(pola,kalimat)"
   ]
  },
  {
   "cell_type": "code",
   "execution_count": 13,
   "metadata": {
    "collapsed": false
   },
   "outputs": [
    {
     "data": {
      "text/plain": [
       "['a', 'a', 'a', 'aa', 'aaa', 'AAAAA']"
      ]
     },
     "execution_count": 13,
     "metadata": {},
     "output_type": "execute_result"
    }
   ],
   "source": [
    "kalimat=\"car or cara ??aa?? baaa! AAAAAb\"\n",
    "\n",
    "pola='[aA]+'\n",
    "\n",
    "re.findall(pola,kalimat)"
   ]
  },
  {
   "cell_type": "code",
   "execution_count": 14,
   "metadata": {
    "collapsed": false
   },
   "outputs": [
    {
     "data": {
      "text/plain": [
       "[]"
      ]
     },
     "execution_count": 14,
     "metadata": {},
     "output_type": "execute_result"
    }
   ],
   "source": [
    "kalimat=\"we should call it 'iniiiii ituuu'\"\n",
    "pola='[A-Z]\\w+'\n",
    "\n",
    "re.findall(pola,kalimat)"
   ]
  },
  {
   "cell_type": "code",
   "execution_count": 15,
   "metadata": {
    "collapsed": false
   },
   "outputs": [
    {
     "data": {
      "text/plain": [
       "['Tiniiiii', 'Tituuu']"
      ]
     },
     "execution_count": 15,
     "metadata": {},
     "output_type": "execute_result"
    }
   ],
   "source": [
    "kalimat=\"we should call it 'Tiniiiii Tituuu'\"\n",
    "pola='[A-Z]\\w+'\n",
    "\n",
    "re.findall(pola,kalimat)"
   ]
  },
  {
   "cell_type": "code",
   "execution_count": 16,
   "metadata": {
    "collapsed": false
   },
   "outputs": [
    {
     "data": {
      "text/plain": [
       "['Saya', 'Pak', 'Budi', 'Saya', 'Rp', '200']"
      ]
     },
     "execution_count": 16,
     "metadata": {},
     "output_type": "execute_result"
    }
   ],
   "source": [
    "kalimat=\"Saya sedang makan di warung Pak Budi. Saya memberli bakwan seharga Rp. 200,-\"\n",
    "pola=r'([A-Z]\\w+|[0-9]\\d{0,2})'\n",
    "\n",
    "re.findall(pola,kalimat)"
   ]
  },
  {
   "cell_type": "code",
   "execution_count": 17,
   "metadata": {
    "collapsed": false
   },
   "outputs": [
    {
     "data": {
      "text/plain": [
       "['Saya', 'Pak', 'Budi', 'Saya', 'Rp', '200']"
      ]
     },
     "execution_count": 17,
     "metadata": {},
     "output_type": "execute_result"
    }
   ],
   "source": [
    "kalimat=\"Saya sedang makan di warung Pak Budi. Saya memberli bakwan seharga Rp. 200,-\"\n",
    "pola=r'([A-Z]\\w+|[0-9]\\d[0-9])'\n",
    "\n",
    "re.findall(pola,kalimat)"
   ]
  },
  {
   "cell_type": "code",
   "execution_count": 23,
   "metadata": {
    "collapsed": false
   },
   "outputs": [
    {
     "data": {
      "text/plain": [
       "['Rp', '200']"
      ]
     },
     "execution_count": 23,
     "metadata": {},
     "output_type": "execute_result"
    }
   ],
   "source": [
    "kalimat=\"saya sedang makan di warung pak budi. saya memberli bakwan seharga Rp. 200,-\"\n",
    "pola=r'([A-Z]\\w+|[0-9][0-9]+)'\n",
    "\n",
    "re.findall(pola,kalimat)"
   ]
  },
  {
   "cell_type": "code",
   "execution_count": 19,
   "metadata": {
    "collapsed": false
   },
   "outputs": [
    {
     "data": {
      "text/plain": [
       "['Rp', '200']"
      ]
     },
     "execution_count": 19,
     "metadata": {},
     "output_type": "execute_result"
    }
   ],
   "source": [
    "kalimat=\"saya sedang makan di warung pak budi. saya memberli bakwan seharga Rp. 200,-\"\n",
    "pola=r'([A-]\\w+|[0-9]\\d{0,2})'\n",
    "\n",
    "re.findall(pola,kalimat)"
   ]
  },
  {
   "cell_type": "code",
   "execution_count": null,
   "metadata": {
    "collapsed": true
   },
   "outputs": [],
   "source": []
  }
 ],
 "metadata": {
  "anaconda-cloud": {},
  "kernelspec": {
   "display_name": "Python 3",
   "language": "python",
   "name": "python3"
  },
  "language_info": {
   "codemirror_mode": {
    "name": "ipython",
    "version": 3
   },
   "file_extension": ".py",
   "mimetype": "text/x-python",
   "name": "python",
   "nbconvert_exporter": "python",
   "pygments_lexer": "ipython3",
   "version": "3.5.2"
  }
 },
 "nbformat": 4,
 "nbformat_minor": 0
}
